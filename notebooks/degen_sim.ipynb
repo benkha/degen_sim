{
 "cells": [
  {
   "cell_type": "code",
   "execution_count": 1,
   "id": "7e7cc642-050e-4711-b1c5-6984eaf23610",
   "metadata": {
    "execution": {
     "iopub.execute_input": "2025-10-19T02:21:28.626931Z",
     "iopub.status.busy": "2025-10-19T02:21:28.626661Z",
     "iopub.status.idle": "2025-10-19T02:21:28.701455Z",
     "shell.execute_reply": "2025-10-19T02:21:28.701160Z",
     "shell.execute_reply.started": "2025-10-19T02:21:28.626911Z"
    }
   },
   "outputs": [],
   "source": [
    "%load_ext autoreload\n",
    "%autoreload 2\n",
    "%autoreload 2"
   ]
  },
  {
   "cell_type": "code",
   "execution_count": 2,
   "id": "8497593c-61b1-40be-900c-3ed9903b9811",
   "metadata": {
    "execution": {
     "iopub.execute_input": "2025-10-19T02:21:29.250616Z",
     "iopub.status.busy": "2025-10-19T02:21:29.250163Z",
     "iopub.status.idle": "2025-10-19T02:21:29.271608Z",
     "shell.execute_reply": "2025-10-19T02:21:29.271053Z",
     "shell.execute_reply.started": "2025-10-19T02:21:29.250584Z"
    }
   },
   "outputs": [],
   "source": [
    "from degen_sim.common.notebook_utils import hide_raw_cells, markdown"
   ]
  },
  {
   "cell_type": "code",
   "execution_count": 3,
   "id": "761d2a70-3088-47ba-9834-9920db9539d5",
   "metadata": {
    "execution": {
     "iopub.execute_input": "2025-10-19T02:21:35.768543Z",
     "iopub.status.busy": "2025-10-19T02:21:35.768108Z",
     "iopub.status.idle": "2025-10-19T02:21:35.787651Z",
     "shell.execute_reply": "2025-10-19T02:21:35.787134Z",
     "shell.execute_reply.started": "2025-10-19T02:21:35.768518Z"
    }
   },
   "outputs": [],
   "source": [
    "# hide_raw_cells()"
   ]
  },
  {
   "cell_type": "code",
   "execution_count": 4,
   "id": "24caba42-40a0-4e9b-8168-f4441f10b32d",
   "metadata": {
    "execution": {
     "iopub.execute_input": "2025-10-19T02:21:36.570174Z",
     "iopub.status.busy": "2025-10-19T02:21:36.569475Z",
     "iopub.status.idle": "2025-10-19T02:21:37.908236Z",
     "shell.execute_reply": "2025-10-19T02:21:37.908001Z",
     "shell.execute_reply.started": "2025-10-19T02:21:36.570125Z"
    }
   },
   "outputs": [],
   "source": [
    "import numpy as np\n",
    "import pandas as pd\n",
    "import plotly.express as px\n",
    "\n",
    "from datetime import datetime\n",
    "from dateutil.tz import gettz\n",
    "import os\n",
    "import time\n",
    "\n",
    "from dataclasses import dataclass, asdict"
   ]
  },
  {
   "cell_type": "code",
   "execution_count": 5,
   "id": "7dc288fd-d532-41df-bb53-3cf9d8f3611f",
   "metadata": {
    "execution": {
     "iopub.execute_input": "2025-10-19T02:21:37.908863Z",
     "iopub.status.busy": "2025-10-19T02:21:37.908772Z",
     "iopub.status.idle": "2025-10-19T02:21:37.917197Z",
     "shell.execute_reply": "2025-10-19T02:21:37.916972Z",
     "shell.execute_reply.started": "2025-10-19T02:21:37.908855Z"
    }
   },
   "outputs": [],
   "source": [
    "from degen_sim.common.constants import ROOT_DIR, DATA_DIR, REPORTS_DIR"
   ]
  },
  {
   "cell_type": "code",
   "execution_count": 6,
   "id": "13a40d6a-48ac-4e6e-9a08-3aa118141b60",
   "metadata": {
    "execution": {
     "iopub.execute_input": "2025-10-19T02:21:37.917483Z",
     "iopub.status.busy": "2025-10-19T02:21:37.917418Z",
     "iopub.status.idle": "2025-10-19T02:21:37.923658Z",
     "shell.execute_reply": "2025-10-19T02:21:37.923410Z",
     "shell.execute_reply.started": "2025-10-19T02:21:37.917477Z"
    }
   },
   "outputs": [],
   "source": [
    "def line_scatter(df, x, y, **kwargs):\n",
    "    fig = px.line(df, x=x, y=y, **kwargs, template=\"plotly_white\")\n",
    "    for data in fig.data:\n",
    "        data.update(mode=\"markers+lines\")\n",
    "    return fig"
   ]
  },
  {
   "cell_type": "code",
   "execution_count": 11,
   "id": "adbb5aca-e193-4fc8-8490-825edcb18157",
   "metadata": {
    "execution": {
     "iopub.execute_input": "2025-10-19T02:21:43.692968Z",
     "iopub.status.busy": "2025-10-19T02:21:43.692691Z",
     "iopub.status.idle": "2025-10-19T02:21:43.711901Z",
     "shell.execute_reply": "2025-10-19T02:21:43.711284Z",
     "shell.execute_reply.started": "2025-10-19T02:21:43.692950Z"
    }
   },
   "outputs": [],
   "source": [
    "DATE = \"20251014\""
   ]
  },
  {
   "cell_type": "code",
   "execution_count": 12,
   "id": "b0d1784e-6450-4cd0-aacd-7fbd6ab32089",
   "metadata": {
    "execution": {
     "iopub.execute_input": "2025-10-19T02:21:44.269722Z",
     "iopub.status.busy": "2025-10-19T02:21:44.269288Z",
     "iopub.status.idle": "2025-10-19T02:21:44.300077Z",
     "shell.execute_reply": "2025-10-19T02:21:44.299662Z",
     "shell.execute_reply.started": "2025-10-19T02:21:44.269694Z"
    }
   },
   "outputs": [],
   "source": [
    "nfl_picks = pd.read_csv(os.path.join(DATA_DIR, \"parlay_tracker_nfl.csv\"))\n",
    "cfb_picks = pd.read_csv(os.path.join(DATA_DIR, \"parlay_tracker_cfb.csv\"))"
   ]
  },
  {
   "cell_type": "code",
   "execution_count": 13,
   "id": "c493a733-bb2a-4721-a983-032aa5003dc8",
   "metadata": {
    "execution": {
     "iopub.execute_input": "2025-10-19T02:21:44.665868Z",
     "iopub.status.busy": "2025-10-19T02:21:44.665428Z",
     "iopub.status.idle": "2025-10-19T02:21:44.692312Z",
     "shell.execute_reply": "2025-10-19T02:21:44.691565Z",
     "shell.execute_reply.started": "2025-10-19T02:21:44.665839Z"
    }
   },
   "outputs": [],
   "source": [
    "nfl_picks = nfl_picks[~nfl_picks.Win.isna()]"
   ]
  },
  {
   "cell_type": "code",
   "execution_count": 14,
   "id": "c5fab3cb-798f-4ff0-8bc0-8e55e7a2f64c",
   "metadata": {
    "execution": {
     "iopub.execute_input": "2025-10-19T02:21:45.324163Z",
     "iopub.status.busy": "2025-10-19T02:21:45.323655Z",
     "iopub.status.idle": "2025-10-19T02:21:45.350623Z",
     "shell.execute_reply": "2025-10-19T02:21:45.349677Z",
     "shell.execute_reply.started": "2025-10-19T02:21:45.324135Z"
    }
   },
   "outputs": [],
   "source": [
    "pickers = sorted(set(nfl_picks[\"Pick\"]) | set(cfb_picks[\"Pick\"]))"
   ]
  },
  {
   "cell_type": "code",
   "execution_count": 40,
   "id": "b084592f-bb61-4d7c-becc-519e4bbcc0d9",
   "metadata": {
    "execution": {
     "iopub.execute_input": "2025-10-19T02:27:21.467950Z",
     "iopub.status.busy": "2025-10-19T02:27:21.467373Z",
     "iopub.status.idle": "2025-10-19T02:27:21.498686Z",
     "shell.execute_reply": "2025-10-19T02:27:21.498352Z",
     "shell.execute_reply.started": "2025-10-19T02:27:21.467901Z"
    }
   },
   "outputs": [
    {
     "data": {
      "text/markdown": [
       "## Methodology\n"
      ],
      "text/plain": [
       "<IPython.core.display.Markdown object>"
      ]
     },
     "metadata": {},
     "output_type": "display_data"
    },
    {
     "data": {
      "text/markdown": [
       "For each person, we have their realized record (w-l-p), and set of American odds. We first convert the American odds to implied probabilities (assuming no house edge), and then we run a Monte Carlo simulation to see the distribution of number of wins (W) according to the implied probabilities.\n"
      ],
      "text/plain": [
       "<IPython.core.display.Markdown object>"
      ]
     },
     "metadata": {},
     "output_type": "display_data"
    },
    {
     "data": {
      "text/markdown": [
       "From this distribution, we can then compute the p-value [P(W >= w)] where w is the realized number of wins, where a lower p-value indicates more skill in picking winning bets, and a higher p-value indicates lower skill in picking winning bets. We simulate using 1,000,000 Monte Carlo trials per person.\n"
      ],
      "text/plain": [
       "<IPython.core.display.Markdown object>"
      ]
     },
     "metadata": {},
     "output_type": "display_data"
    }
   ],
   "source": [
    "markdown(\"## Methodology\\n\")\n",
    "markdown(\"For each person, we have their realized record (w-l-p), and set of American odds. We first convert the American odds to implied probabilities (assuming no house edge), and then we run a Monte Carlo simulation to see the distribution of number of wins (W) according to the implied probabilities.\\n\")\n",
    "markdown(\"From this distribution, we can then compute the p-value [P(W >= w)] where w is the realized number of wins, where a lower p-value indicates more skill in picking winning bets, and a higher p-value indicates lower skill in picking winning bets. We simulate using 1,000,000 Monte Carlo trials per person.\\n\")"
   ]
  },
  {
   "cell_type": "code",
   "execution_count": 18,
   "id": "74315356-40e6-4f79-8e29-abb110332a99",
   "metadata": {
    "execution": {
     "iopub.execute_input": "2025-10-19T02:23:28.049614Z",
     "iopub.status.busy": "2025-10-19T02:23:28.049135Z",
     "iopub.status.idle": "2025-10-19T02:23:28.074005Z",
     "shell.execute_reply": "2025-10-19T02:23:28.073504Z",
     "shell.execute_reply.started": "2025-10-19T02:23:28.049582Z"
    }
   },
   "outputs": [],
   "source": [
    "@dataclass\n",
    "class PickInfo:\n",
    "    \"\"\"\n",
    "    Represents a product with a name, price, and quantity in stock.\n",
    "    \"\"\"\n",
    "    name: str\n",
    "    num_wins: int\n",
    "    num_losses: int\n",
    "    num_pushes: int\n",
    "    odds: list[float]"
   ]
  },
  {
   "cell_type": "code",
   "execution_count": 19,
   "id": "b5e82f29-8d94-4fee-a099-aee5a578be01",
   "metadata": {
    "execution": {
     "iopub.execute_input": "2025-10-19T02:23:28.430762Z",
     "iopub.status.busy": "2025-10-19T02:23:28.430105Z",
     "iopub.status.idle": "2025-10-19T02:23:28.457168Z",
     "shell.execute_reply": "2025-10-19T02:23:28.456446Z",
     "shell.execute_reply.started": "2025-10-19T02:23:28.430715Z"
    }
   },
   "outputs": [],
   "source": [
    "def american_to_implied_prob(odds):\n",
    "    \"\"\"\n",
    "    Convert American odds to implied probability.\n",
    "\n",
    "    Parameters:\n",
    "        odds (int or float): American odds (e.g., +150, -120)\n",
    "\n",
    "    Returns:\n",
    "        float: Implied probability as a percentage (e.g., 40.0 for +150)\n",
    "    \"\"\"\n",
    "    if odds > 0:\n",
    "        prob = 100 / (odds + 100)\n",
    "    elif odds < 0:\n",
    "        prob = abs(odds) / (abs(odds) + 100)\n",
    "    else:\n",
    "        raise ValueError(\"Odds cannot be zero\")\n",
    "\n",
    "    return prob\n"
   ]
  },
  {
   "cell_type": "code",
   "execution_count": 20,
   "id": "1b603e69-578c-49ca-bdeb-674a745b4576",
   "metadata": {
    "execution": {
     "iopub.execute_input": "2025-10-19T02:23:30.242555Z",
     "iopub.status.busy": "2025-10-19T02:23:30.242168Z",
     "iopub.status.idle": "2025-10-19T02:23:30.269589Z",
     "shell.execute_reply": "2025-10-19T02:23:30.269028Z",
     "shell.execute_reply.started": "2025-10-19T02:23:30.242532Z"
    }
   },
   "outputs": [],
   "source": [
    "def get_pick_infos(pickers, picks):\n",
    "    pick_infos = []\n",
    "    for picker in pickers:\n",
    "        sub_df = picks[picks.Pick == picker].copy()\n",
    "        odds = [american_to_implied_prob(odds) for odds in sub_df[\"Odds\"]]\n",
    "        num_wins = len(sub_df[sub_df[\"Win\"] == \"Y\"])\n",
    "        num_losses = len(sub_df[sub_df[\"Win\"] == \"N\"])\n",
    "        num_pushes = len(sub_df[sub_df[\"Win\"] == \"P\"])\n",
    "        assert num_wins + num_losses + num_pushes == len(sub_df)\n",
    "        pick_info = PickInfo(name=picker, num_wins=num_wins, num_losses=num_losses, num_pushes=num_pushes, odds=odds)\n",
    "        pick_infos.append(pick_info)\n",
    "    return pick_infos"
   ]
  },
  {
   "cell_type": "code",
   "execution_count": 21,
   "id": "fa45c74f-7d89-4ff8-a60c-5d0052e7cd06",
   "metadata": {
    "execution": {
     "iopub.execute_input": "2025-10-19T02:23:32.567571Z",
     "iopub.status.busy": "2025-10-19T02:23:32.567105Z",
     "iopub.status.idle": "2025-10-19T02:23:32.593301Z",
     "shell.execute_reply": "2025-10-19T02:23:32.592437Z",
     "shell.execute_reply.started": "2025-10-19T02:23:32.567540Z"
    }
   },
   "outputs": [],
   "source": [
    "def simulate_pick_info(pick_info, num_trials=100, seed=0):\n",
    "    np.random.seed(seed)\n",
    "    \n",
    "    num_games = pick_info.num_wins + pick_info.num_losses + pick_info.num_pushes\n",
    "    df = pd.DataFrame({\"game_index\": range(num_games * num_trials), \"p\": np.random.uniform(low=0.0, high=1.0, size=num_games * num_trials)})\n",
    "    df[\"trial_index\"] = df[\"game_index\"] // num_games\n",
    "    df[\"implied_prob\"] = pick_info.odds * num_trials\n",
    "    df[\"win\"] = np.where(df[\"p\"] <= df[\"implied_prob\"], 1.0, 0.0)\n",
    "\n",
    "    total_wins = df.groupby(\"trial_index\")[[\"win\"]].sum().reset_index()\n",
    "    return total_wins"
   ]
  },
  {
   "cell_type": "code",
   "execution_count": 27,
   "id": "1ac5092e-42b2-4b89-b704-d5d02b06bd95",
   "metadata": {
    "execution": {
     "iopub.execute_input": "2025-10-19T02:24:22.471645Z",
     "iopub.status.busy": "2025-10-19T02:24:22.471207Z",
     "iopub.status.idle": "2025-10-19T02:24:22.498422Z",
     "shell.execute_reply": "2025-10-19T02:24:22.497721Z",
     "shell.execute_reply.started": "2025-10-19T02:24:22.471620Z"
    }
   },
   "outputs": [],
   "source": [
    "def compute_cdf(pick_infos):\n",
    "    cdfs = []\n",
    "    for pick_info in pick_infos:\n",
    "        result = simulate_pick_info(pick_info, num_trials=1_000_000)\n",
    "        num_wins = pick_info.num_wins\n",
    "        cdf = len(result[result.win >= num_wins]) / len(result)\n",
    "        cdfs.append(cdf)\n",
    "    cdf_df = pd.DataFrame([asdict(pick_info) for pick_info in pick_infos])\n",
    "    cdf_df[\"p_value\"] = cdfs\n",
    "    return cdf_df.sort_values(by=\"p_value\").drop(columns=\"odds\")"
   ]
  },
  {
   "cell_type": "code",
   "execution_count": 28,
   "id": "91355fb7-c54b-47a7-9474-ba49afad82c8",
   "metadata": {
    "execution": {
     "iopub.execute_input": "2025-10-19T02:24:22.883390Z",
     "iopub.status.busy": "2025-10-19T02:24:22.882808Z",
     "iopub.status.idle": "2025-10-19T02:24:22.910318Z",
     "shell.execute_reply": "2025-10-19T02:24:22.909741Z",
     "shell.execute_reply.started": "2025-10-19T02:24:22.883346Z"
    }
   },
   "outputs": [
    {
     "data": {
      "text/markdown": [
       "## Combined (NFL + CFB) Results"
      ],
      "text/plain": [
       "<IPython.core.display.Markdown object>"
      ]
     },
     "metadata": {},
     "output_type": "display_data"
    }
   ],
   "source": [
    "markdown(\"## Combined (NFL + CFB) Results\")"
   ]
  },
  {
   "cell_type": "code",
   "execution_count": 29,
   "id": "b5b1f2c4-a14a-44a8-9ba3-3454048ee04b",
   "metadata": {
    "execution": {
     "iopub.execute_input": "2025-10-19T02:24:23.134436Z",
     "iopub.status.busy": "2025-10-19T02:24:23.133875Z",
     "iopub.status.idle": "2025-10-19T02:24:23.159941Z",
     "shell.execute_reply": "2025-10-19T02:24:23.159054Z",
     "shell.execute_reply.started": "2025-10-19T02:24:23.134396Z"
    }
   },
   "outputs": [],
   "source": [
    "combined_picks = pd.concat([nfl_picks, cfb_picks])"
   ]
  },
  {
   "cell_type": "code",
   "execution_count": 30,
   "id": "312fdc80-40c4-45c8-a463-7b1ff6948fe9",
   "metadata": {
    "execution": {
     "iopub.execute_input": "2025-10-19T02:24:23.421798Z",
     "iopub.status.busy": "2025-10-19T02:24:23.421315Z",
     "iopub.status.idle": "2025-10-19T02:24:23.454133Z",
     "shell.execute_reply": "2025-10-19T02:24:23.453698Z",
     "shell.execute_reply.started": "2025-10-19T02:24:23.421768Z"
    }
   },
   "outputs": [],
   "source": [
    "combined_pick_infos = get_pick_infos(pickers, combined_picks)"
   ]
  },
  {
   "cell_type": "code",
   "execution_count": 31,
   "id": "61f4222e-7a94-4271-830f-4dae7c4360ee",
   "metadata": {
    "execution": {
     "iopub.execute_input": "2025-10-19T02:24:23.698349Z",
     "iopub.status.busy": "2025-10-19T02:24:23.697933Z",
     "iopub.status.idle": "2025-10-19T02:24:31.956877Z",
     "shell.execute_reply": "2025-10-19T02:24:31.956518Z",
     "shell.execute_reply.started": "2025-10-19T02:24:23.698324Z"
    }
   },
   "outputs": [],
   "source": [
    "combined_cdfs = compute_cdf(combined_pick_infos)"
   ]
  },
  {
   "cell_type": "code",
   "execution_count": 32,
   "id": "7476f903-ce1c-4116-9c62-da8cc8a3d127",
   "metadata": {
    "execution": {
     "iopub.execute_input": "2025-10-19T02:24:34.315993Z",
     "iopub.status.busy": "2025-10-19T02:24:34.315545Z",
     "iopub.status.idle": "2025-10-19T02:24:34.343406Z",
     "shell.execute_reply": "2025-10-19T02:24:34.342824Z",
     "shell.execute_reply.started": "2025-10-19T02:24:34.315966Z"
    }
   },
   "outputs": [
    {
     "data": {
      "text/markdown": [
       "## NFL Results"
      ],
      "text/plain": [
       "<IPython.core.display.Markdown object>"
      ]
     },
     "metadata": {},
     "output_type": "display_data"
    }
   ],
   "source": [
    "markdown(\"## NFL Results\")"
   ]
  },
  {
   "cell_type": "code",
   "execution_count": 33,
   "id": "f5d03cbc-a706-4513-ad31-6ab9b559607e",
   "metadata": {
    "execution": {
     "iopub.execute_input": "2025-10-19T02:24:35.360214Z",
     "iopub.status.busy": "2025-10-19T02:24:35.359545Z",
     "iopub.status.idle": "2025-10-19T02:24:35.395311Z",
     "shell.execute_reply": "2025-10-19T02:24:35.394788Z",
     "shell.execute_reply.started": "2025-10-19T02:24:35.360153Z"
    }
   },
   "outputs": [],
   "source": [
    "nfl_pick_infos = get_pick_infos(pickers, nfl_picks)"
   ]
  },
  {
   "cell_type": "code",
   "execution_count": 34,
   "id": "e603e816-d1ba-424c-bb63-abe2cd5d0efd",
   "metadata": {
    "execution": {
     "iopub.execute_input": "2025-10-19T02:24:35.712774Z",
     "iopub.status.busy": "2025-10-19T02:24:35.712331Z",
     "iopub.status.idle": "2025-10-19T02:24:40.169129Z",
     "shell.execute_reply": "2025-10-19T02:24:40.168818Z",
     "shell.execute_reply.started": "2025-10-19T02:24:35.712746Z"
    }
   },
   "outputs": [],
   "source": [
    "nfl_cdfs = compute_cdf(nfl_pick_infos)"
   ]
  },
  {
   "cell_type": "code",
   "execution_count": 35,
   "id": "b0162836-2697-4e48-9d2a-9df3ad5b833e",
   "metadata": {
    "execution": {
     "iopub.execute_input": "2025-10-19T02:24:40.169811Z",
     "iopub.status.busy": "2025-10-19T02:24:40.169732Z",
     "iopub.status.idle": "2025-10-19T02:24:40.178520Z",
     "shell.execute_reply": "2025-10-19T02:24:40.178306Z",
     "shell.execute_reply.started": "2025-10-19T02:24:40.169803Z"
    }
   },
   "outputs": [
    {
     "data": {
      "text/markdown": [
       "## CFB Results"
      ],
      "text/plain": [
       "<IPython.core.display.Markdown object>"
      ]
     },
     "metadata": {},
     "output_type": "display_data"
    }
   ],
   "source": [
    "markdown(\"## CFB Results\")"
   ]
  },
  {
   "cell_type": "code",
   "execution_count": 36,
   "id": "80740afc-dfa8-4bf7-9660-ed7303edd873",
   "metadata": {
    "execution": {
     "iopub.execute_input": "2025-10-19T02:24:40.178831Z",
     "iopub.status.busy": "2025-10-19T02:24:40.178767Z",
     "iopub.status.idle": "2025-10-19T02:24:40.189071Z",
     "shell.execute_reply": "2025-10-19T02:24:40.188821Z",
     "shell.execute_reply.started": "2025-10-19T02:24:40.178825Z"
    }
   },
   "outputs": [],
   "source": [
    "cfb_pick_infos = get_pick_infos(pickers, cfb_picks)"
   ]
  },
  {
   "cell_type": "code",
   "execution_count": 37,
   "id": "d0d1587d-8320-4e81-9c7b-45d7f8dcc3e3",
   "metadata": {
    "execution": {
     "iopub.execute_input": "2025-10-19T02:24:40.189861Z",
     "iopub.status.busy": "2025-10-19T02:24:40.189794Z",
     "iopub.status.idle": "2025-10-19T02:24:44.649669Z",
     "shell.execute_reply": "2025-10-19T02:24:44.649409Z",
     "shell.execute_reply.started": "2025-10-19T02:24:40.189854Z"
    }
   },
   "outputs": [],
   "source": [
    "cfb_cdfs = compute_cdf(cfb_pick_infos)"
   ]
  },
  {
   "cell_type": "code",
   "execution_count": null,
   "id": "e3653f7d-d90b-435b-8dc7-3d96beef2076",
   "metadata": {},
   "outputs": [],
   "source": []
  },
  {
   "cell_type": "code",
   "execution_count": null,
   "id": "75101f07-669a-4d9c-8656-8a57b40ba145",
   "metadata": {},
   "outputs": [],
   "source": []
  },
  {
   "cell_type": "code",
   "execution_count": null,
   "id": "ecbfbbfa-f562-4a0e-97d4-d0334d86503e",
   "metadata": {},
   "outputs": [],
   "source": []
  },
  {
   "cell_type": "code",
   "execution_count": 39,
   "id": "22f9e1d0-b9df-4d83-aecd-1fb94b0920c8",
   "metadata": {
    "execution": {
     "iopub.execute_input": "2025-10-19T02:25:57.362684Z",
     "iopub.status.busy": "2025-10-19T02:25:57.362243Z",
     "iopub.status.idle": "2025-10-19T02:25:57.396249Z",
     "shell.execute_reply": "2025-10-19T02:25:57.395812Z",
     "shell.execute_reply.started": "2025-10-19T02:25:57.362657Z"
    }
   },
   "outputs": [],
   "source": [
    "with open(os.path.join(REPORTS_DIR, f\"degen_sim_{DATE}.md\"), \"w\", encoding=\"utf-8\") as f:\n",
    "    f.write(f\"# Degen Sim Report for {DATE}\\n\")\n",
    "    f.write(\"## Methodology\\n\")\n",
    "    f.write(\"For each person, we have their realized record (w-l-p), and set of American odds. We first convert the American odds to implied probabilities (assuming no house edge), and then we run a Monte Carlo simulation to see the distribution of number of wins (W) according to the implied probabilities.\\n\")\n",
    "    f.write(\"From this distribution, we can then compute the p-value [P(W >= w)] where w is the realized number of wins, where a lower p-value indicates more skill in picking winning bets, and a higher p-value indicates lower skill in picking winning bets. We simulate using 1,000,000 Monte Carlo trials per person.\\n\")\n",
    "    f.write(\"\\n\")\n",
    "    \n",
    "    f.write(\"## Combined (NFL + CFB) Results\\n\")\n",
    "    f.write(\"\\n\")\n",
    "    f.write(combined_cdfs.to_markdown(index=False))\n",
    "    f.write(\"\\n\")\n",
    "\n",
    "    f.write(\"## NFL Results\\n\")\n",
    "    f.write(\"\\n\")\n",
    "    f.write(nfl_cdfs.to_markdown(index=False))\n",
    "    f.write(\"\\n\")\n",
    "\n",
    "    f.write(\"## CFB Results\\n\")\n",
    "    f.write(\"\\n\")\n",
    "    f.write(cfb_cdfs.to_markdown(index=False))\n",
    "    f.write(\"\\n\")"
   ]
  },
  {
   "cell_type": "code",
   "execution_count": null,
   "id": "ad6ff1d7-43bc-4d10-9882-f8c3c843c74e",
   "metadata": {},
   "outputs": [],
   "source": []
  }
 ],
 "metadata": {
  "kernelspec": {
   "display_name": "Python 3 (ipykernel)",
   "language": "python",
   "name": "python3"
  },
  "language_info": {
   "codemirror_mode": {
    "name": "ipython",
    "version": 3
   },
   "file_extension": ".py",
   "mimetype": "text/x-python",
   "name": "python",
   "nbconvert_exporter": "python",
   "pygments_lexer": "ipython3",
   "version": "3.12.7"
  }
 },
 "nbformat": 4,
 "nbformat_minor": 5
}
