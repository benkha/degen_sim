{
 "cells": [
  {
   "cell_type": "code",
   "execution_count": 49,
   "id": "7e7cc642-050e-4711-b1c5-6984eaf23610",
   "metadata": {
    "execution": {
     "iopub.execute_input": "2025-10-08T02:35:11.926633Z",
     "iopub.status.busy": "2025-10-08T02:35:11.926358Z",
     "iopub.status.idle": "2025-10-08T02:35:11.951407Z",
     "shell.execute_reply": "2025-10-08T02:35:11.950906Z",
     "shell.execute_reply.started": "2025-10-08T02:35:11.926614Z"
    }
   },
   "outputs": [
    {
     "name": "stdout",
     "output_type": "stream",
     "text": [
      "The autoreload extension is already loaded. To reload it, use:\n",
      "  %reload_ext autoreload\n"
     ]
    }
   ],
   "source": [
    "%load_ext autoreload\n",
    "%autoreload 2\n",
    "%autoreload 2"
   ]
  },
  {
   "cell_type": "code",
   "execution_count": 50,
   "id": "8497593c-61b1-40be-900c-3ed9903b9811",
   "metadata": {
    "execution": {
     "iopub.execute_input": "2025-10-08T02:35:12.759724Z",
     "iopub.status.busy": "2025-10-08T02:35:12.759466Z",
     "iopub.status.idle": "2025-10-08T02:35:12.781508Z",
     "shell.execute_reply": "2025-10-08T02:35:12.780533Z",
     "shell.execute_reply.started": "2025-10-08T02:35:12.759706Z"
    }
   },
   "outputs": [],
   "source": [
    "from degen_sim.common.notebook_utils import hide_raw_cells, markdown"
   ]
  },
  {
   "cell_type": "code",
   "execution_count": 3,
   "id": "761d2a70-3088-47ba-9834-9920db9539d5",
   "metadata": {
    "execution": {
     "iopub.execute_input": "2025-10-08T02:03:45.846224Z",
     "iopub.status.busy": "2025-10-08T02:03:45.845786Z",
     "iopub.status.idle": "2025-10-08T02:03:45.869721Z",
     "shell.execute_reply": "2025-10-08T02:03:45.869070Z",
     "shell.execute_reply.started": "2025-10-08T02:03:45.846197Z"
    }
   },
   "outputs": [
    {
     "data": {
      "text/html": [
       "\n",
       "        <script src=\"https://ajax.googleapis.com/ajax/libs/jquery/3.5.1/jquery.min.js\"></script>\n",
       "        <script>\n",
       "            code_show=true\n",
       "            function code_toggle() {\n",
       "                code_show ? $('div.input').hide() : $('div.input').show();\n",
       "                code_show ? $('div.jp-InputArea').hide() : $('div.jp-InputArea').show();\n",
       "                code_show = !code_show;\n",
       "            }\n",
       "            $(document).ready(code_toggle);\n",
       "        </script>\n",
       "        <form action=\"javascript:code_toggle()\">\n",
       "            <input type=\"submit\" value=\"Toggle Notebook Code\">\n",
       "        </form>\n",
       "    "
      ],
      "text/plain": [
       "<IPython.core.display.HTML object>"
      ]
     },
     "execution_count": 3,
     "metadata": {},
     "output_type": "execute_result"
    }
   ],
   "source": [
    "hide_raw_cells()"
   ]
  },
  {
   "cell_type": "code",
   "execution_count": 51,
   "id": "24caba42-40a0-4e9b-8168-f4441f10b32d",
   "metadata": {
    "execution": {
     "iopub.execute_input": "2025-10-08T02:35:16.011974Z",
     "iopub.status.busy": "2025-10-08T02:35:16.011478Z",
     "iopub.status.idle": "2025-10-08T02:35:16.034741Z",
     "shell.execute_reply": "2025-10-08T02:35:16.034198Z",
     "shell.execute_reply.started": "2025-10-08T02:35:16.011920Z"
    }
   },
   "outputs": [],
   "source": [
    "import numpy as np\n",
    "import pandas as pd\n",
    "import plotly.express as px\n",
    "\n",
    "from datetime import datetime\n",
    "from dateutil.tz import gettz\n",
    "import os\n",
    "import time\n",
    "\n",
    "from dataclasses import dataclass, asdict"
   ]
  },
  {
   "cell_type": "code",
   "execution_count": 74,
   "id": "7dc288fd-d532-41df-bb53-3cf9d8f3611f",
   "metadata": {
    "execution": {
     "iopub.execute_input": "2025-10-08T02:37:07.132840Z",
     "iopub.status.busy": "2025-10-08T02:37:07.132141Z",
     "iopub.status.idle": "2025-10-08T02:37:07.164297Z",
     "shell.execute_reply": "2025-10-08T02:37:07.163574Z",
     "shell.execute_reply.started": "2025-10-08T02:37:07.132792Z"
    }
   },
   "outputs": [],
   "source": [
    "from degen_sim.common.constants import ROOT_DIR, DATA_DIR, REPORTS_DIR"
   ]
  },
  {
   "cell_type": "code",
   "execution_count": 53,
   "id": "13a40d6a-48ac-4e6e-9a08-3aa118141b60",
   "metadata": {
    "execution": {
     "iopub.execute_input": "2025-10-08T02:35:16.456427Z",
     "iopub.status.busy": "2025-10-08T02:35:16.456006Z",
     "iopub.status.idle": "2025-10-08T02:35:16.486491Z",
     "shell.execute_reply": "2025-10-08T02:35:16.485785Z",
     "shell.execute_reply.started": "2025-10-08T02:35:16.456401Z"
    }
   },
   "outputs": [],
   "source": [
    "def line_scatter(df, x, y, **kwargs):\n",
    "    fig = px.line(df, x=x, y=y, **kwargs, template=\"plotly_white\")\n",
    "    for data in fig.data:\n",
    "        data.update(mode=\"markers+lines\")\n",
    "    return fig"
   ]
  },
  {
   "cell_type": "code",
   "execution_count": 73,
   "id": "adbb5aca-e193-4fc8-8490-825edcb18157",
   "metadata": {
    "execution": {
     "iopub.execute_input": "2025-10-08T02:36:36.805367Z",
     "iopub.status.busy": "2025-10-08T02:36:36.805117Z",
     "iopub.status.idle": "2025-10-08T02:36:36.826186Z",
     "shell.execute_reply": "2025-10-08T02:36:36.825574Z",
     "shell.execute_reply.started": "2025-10-08T02:36:36.805349Z"
    }
   },
   "outputs": [],
   "source": [
    "DATE = \"20251007\""
   ]
  },
  {
   "cell_type": "code",
   "execution_count": 54,
   "id": "b0d1784e-6450-4cd0-aacd-7fbd6ab32089",
   "metadata": {
    "execution": {
     "iopub.execute_input": "2025-10-08T02:35:16.651459Z",
     "iopub.status.busy": "2025-10-08T02:35:16.651048Z",
     "iopub.status.idle": "2025-10-08T02:35:16.687089Z",
     "shell.execute_reply": "2025-10-08T02:35:16.686618Z",
     "shell.execute_reply.started": "2025-10-08T02:35:16.651434Z"
    }
   },
   "outputs": [],
   "source": [
    "nfl_picks = pd.read_csv(os.path.join(DATA_DIR, \"parlay_tracker_nfl.csv\"))\n",
    "cfb_picks = pd.read_csv(os.path.join(DATA_DIR, \"parlay_tracker_cfb.csv\"))"
   ]
  },
  {
   "cell_type": "code",
   "execution_count": 55,
   "id": "c493a733-bb2a-4721-a983-032aa5003dc8",
   "metadata": {
    "execution": {
     "iopub.execute_input": "2025-10-08T02:35:16.841048Z",
     "iopub.status.busy": "2025-10-08T02:35:16.840623Z",
     "iopub.status.idle": "2025-10-08T02:35:16.868006Z",
     "shell.execute_reply": "2025-10-08T02:35:16.867452Z",
     "shell.execute_reply.started": "2025-10-08T02:35:16.841023Z"
    }
   },
   "outputs": [],
   "source": [
    "nfl_picks = nfl_picks[~nfl_picks.Win.isna()]"
   ]
  },
  {
   "cell_type": "code",
   "execution_count": 56,
   "id": "c5fab3cb-798f-4ff0-8bc0-8e55e7a2f64c",
   "metadata": {
    "execution": {
     "iopub.execute_input": "2025-10-08T02:35:17.029869Z",
     "iopub.status.busy": "2025-10-08T02:35:17.029165Z",
     "iopub.status.idle": "2025-10-08T02:35:17.057159Z",
     "shell.execute_reply": "2025-10-08T02:35:17.056674Z",
     "shell.execute_reply.started": "2025-10-08T02:35:17.029822Z"
    }
   },
   "outputs": [],
   "source": [
    "pickers = sorted(set(nfl_picks[\"Pick\"]) | set(cfb_picks[\"Pick\"]))"
   ]
  },
  {
   "cell_type": "code",
   "execution_count": 57,
   "id": "b084592f-bb61-4d7c-becc-519e4bbcc0d9",
   "metadata": {
    "execution": {
     "iopub.execute_input": "2025-10-08T02:35:17.357067Z",
     "iopub.status.busy": "2025-10-08T02:35:17.356640Z",
     "iopub.status.idle": "2025-10-08T02:35:17.384913Z",
     "shell.execute_reply": "2025-10-08T02:35:17.384513Z",
     "shell.execute_reply.started": "2025-10-08T02:35:17.357042Z"
    }
   },
   "outputs": [
    {
     "data": {
      "text/markdown": [
       "## Methodology"
      ],
      "text/plain": [
       "<IPython.core.display.Markdown object>"
      ]
     },
     "metadata": {},
     "output_type": "display_data"
    },
    {
     "data": {
      "text/markdown": [
       "For each person, we have their realized record (W-L-P), and set of American odds. We first convert the American odds to implied probabilities (assuming no house edge), and then we run a Monte Carlo simulation to see the distribution of number of wins according to the implied probabilities."
      ],
      "text/plain": [
       "<IPython.core.display.Markdown object>"
      ]
     },
     "metadata": {},
     "output_type": "display_data"
    },
    {
     "data": {
      "text/markdown": [
       "From this distribution, we can then compute the CDF(W) where W is the realized number of wins, where a higher CDF indicates more skill in picking winning bets, and a lower CDF indicates lower skill in picking winning bets. We simulate using 1,000,000 Monte Carlo trials per person."
      ],
      "text/plain": [
       "<IPython.core.display.Markdown object>"
      ]
     },
     "metadata": {},
     "output_type": "display_data"
    }
   ],
   "source": [
    "markdown(\"## Methodology\")\n",
    "markdown(\"For each person, we have their realized record (W-L-P), and set of American odds. We first convert the American odds to implied probabilities (assuming no house edge), and then we run a Monte Carlo simulation to see the distribution of number of wins according to the implied probabilities.\")\n",
    "markdown(\"From this distribution, we can then compute the CDF(W) where W is the realized number of wins, where a higher CDF indicates more skill in picking winning bets, and a lower CDF indicates lower skill in picking winning bets. We simulate using 1,000,000 Monte Carlo trials per person.\")"
   ]
  },
  {
   "cell_type": "code",
   "execution_count": 58,
   "id": "74315356-40e6-4f79-8e29-abb110332a99",
   "metadata": {
    "execution": {
     "iopub.execute_input": "2025-10-08T02:35:17.553573Z",
     "iopub.status.busy": "2025-10-08T02:35:17.553022Z",
     "iopub.status.idle": "2025-10-08T02:35:17.583158Z",
     "shell.execute_reply": "2025-10-08T02:35:17.582325Z",
     "shell.execute_reply.started": "2025-10-08T02:35:17.553529Z"
    }
   },
   "outputs": [],
   "source": [
    "@dataclass\n",
    "class PickInfo:\n",
    "    \"\"\"\n",
    "    Represents a product with a name, price, and quantity in stock.\n",
    "    \"\"\"\n",
    "    name: str\n",
    "    num_wins: int\n",
    "    num_losses: int\n",
    "    num_pushes: int\n",
    "    odds: list[float]"
   ]
  },
  {
   "cell_type": "code",
   "execution_count": 59,
   "id": "b5e82f29-8d94-4fee-a099-aee5a578be01",
   "metadata": {
    "execution": {
     "iopub.execute_input": "2025-10-08T02:35:17.760138Z",
     "iopub.status.busy": "2025-10-08T02:35:17.759591Z",
     "iopub.status.idle": "2025-10-08T02:35:17.784725Z",
     "shell.execute_reply": "2025-10-08T02:35:17.784165Z",
     "shell.execute_reply.started": "2025-10-08T02:35:17.760081Z"
    }
   },
   "outputs": [],
   "source": [
    "def american_to_implied_prob(odds):\n",
    "    \"\"\"\n",
    "    Convert American odds to implied probability.\n",
    "\n",
    "    Parameters:\n",
    "        odds (int or float): American odds (e.g., +150, -120)\n",
    "\n",
    "    Returns:\n",
    "        float: Implied probability as a percentage (e.g., 40.0 for +150)\n",
    "    \"\"\"\n",
    "    if odds > 0:\n",
    "        prob = 100 / (odds + 100)\n",
    "    elif odds < 0:\n",
    "        prob = abs(odds) / (abs(odds) + 100)\n",
    "    else:\n",
    "        raise ValueError(\"Odds cannot be zero\")\n",
    "\n",
    "    return prob\n"
   ]
  },
  {
   "cell_type": "code",
   "execution_count": 60,
   "id": "1b603e69-578c-49ca-bdeb-674a745b4576",
   "metadata": {
    "execution": {
     "iopub.execute_input": "2025-10-08T02:35:18.101901Z",
     "iopub.status.busy": "2025-10-08T02:35:18.101414Z",
     "iopub.status.idle": "2025-10-08T02:35:18.131523Z",
     "shell.execute_reply": "2025-10-08T02:35:18.130470Z",
     "shell.execute_reply.started": "2025-10-08T02:35:18.101871Z"
    }
   },
   "outputs": [],
   "source": [
    "def get_pick_infos(pickers, picks):\n",
    "    pick_infos = []\n",
    "    for picker in pickers:\n",
    "        sub_df = picks[picks.Pick == picker].copy()\n",
    "        odds = [american_to_implied_prob(odds) for odds in sub_df[\"Odds\"]]\n",
    "        num_wins = len(sub_df[sub_df[\"Win\"] == \"Y\"])\n",
    "        num_losses = len(sub_df[sub_df[\"Win\"] == \"N\"])\n",
    "        num_pushes = len(sub_df[sub_df[\"Win\"] == \"P\"])\n",
    "        assert num_wins + num_losses + num_pushes == len(sub_df)\n",
    "        pick_info = PickInfo(name=picker, num_wins=num_wins, num_losses=num_losses, num_pushes=num_pushes, odds=odds)\n",
    "        pick_infos.append(pick_info)\n",
    "    return pick_infos"
   ]
  },
  {
   "cell_type": "code",
   "execution_count": 61,
   "id": "fa45c74f-7d89-4ff8-a60c-5d0052e7cd06",
   "metadata": {
    "execution": {
     "iopub.execute_input": "2025-10-08T02:35:18.346101Z",
     "iopub.status.busy": "2025-10-08T02:35:18.345487Z",
     "iopub.status.idle": "2025-10-08T02:35:18.374409Z",
     "shell.execute_reply": "2025-10-08T02:35:18.373687Z",
     "shell.execute_reply.started": "2025-10-08T02:35:18.346061Z"
    }
   },
   "outputs": [],
   "source": [
    "def simulate_pick_info(pick_info, num_trials=100, seed=0):\n",
    "    np.random.seed(seed)\n",
    "    \n",
    "    num_games = pick_info.num_wins + pick_info.num_losses + pick_info.num_pushes\n",
    "    df = pd.DataFrame({\"game_index\": range(num_games * num_trials), \"p\": np.random.uniform(low=0.0, high=1.0, size=num_games * num_trials)})\n",
    "    df[\"trial_index\"] = df[\"game_index\"] // num_games\n",
    "    df[\"implied_prob\"] = pick_info.odds * num_trials\n",
    "    df[\"win\"] = np.where(df[\"p\"] <= df[\"implied_prob\"], 1.0, 0.0)\n",
    "\n",
    "    total_wins = df.groupby(\"trial_index\")[[\"win\"]].sum().reset_index()\n",
    "    return total_wins"
   ]
  },
  {
   "cell_type": "code",
   "execution_count": 62,
   "id": "1ac5092e-42b2-4b89-b704-d5d02b06bd95",
   "metadata": {
    "execution": {
     "iopub.execute_input": "2025-10-08T02:35:18.540774Z",
     "iopub.status.busy": "2025-10-08T02:35:18.540262Z",
     "iopub.status.idle": "2025-10-08T02:35:18.572611Z",
     "shell.execute_reply": "2025-10-08T02:35:18.572000Z",
     "shell.execute_reply.started": "2025-10-08T02:35:18.540726Z"
    }
   },
   "outputs": [],
   "source": [
    "def compute_cdf(pick_infos):\n",
    "    cdfs = []\n",
    "    for pick_info in pick_infos:\n",
    "        result = simulate_pick_info(pick_info, num_trials=1_000_000)\n",
    "        num_wins = pick_info.num_wins\n",
    "        cdf = len(result[result.win <= num_wins]) / len(result)\n",
    "        cdfs.append(cdf)\n",
    "    cdf_df = pd.DataFrame([asdict(pick_info) for pick_info in pick_infos])\n",
    "    cdf_df[\"cdf\"] = cdfs\n",
    "    return cdf_df.sort_values(by=\"cdf\", ascending=False).drop(columns=\"odds\")"
   ]
  },
  {
   "cell_type": "code",
   "execution_count": 63,
   "id": "91355fb7-c54b-47a7-9474-ba49afad82c8",
   "metadata": {
    "execution": {
     "iopub.execute_input": "2025-10-08T02:35:18.756598Z",
     "iopub.status.busy": "2025-10-08T02:35:18.755942Z",
     "iopub.status.idle": "2025-10-08T02:35:18.786098Z",
     "shell.execute_reply": "2025-10-08T02:35:18.785664Z",
     "shell.execute_reply.started": "2025-10-08T02:35:18.756552Z"
    }
   },
   "outputs": [
    {
     "data": {
      "text/markdown": [
       "## Combined (NFL + CFB) Results"
      ],
      "text/plain": [
       "<IPython.core.display.Markdown object>"
      ]
     },
     "metadata": {},
     "output_type": "display_data"
    }
   ],
   "source": [
    "markdown(\"## Combined (NFL + CFB) Results\")"
   ]
  },
  {
   "cell_type": "code",
   "execution_count": 64,
   "id": "b5b1f2c4-a14a-44a8-9ba3-3454048ee04b",
   "metadata": {
    "execution": {
     "iopub.execute_input": "2025-10-08T02:35:19.004003Z",
     "iopub.status.busy": "2025-10-08T02:35:19.003592Z",
     "iopub.status.idle": "2025-10-08T02:35:19.034451Z",
     "shell.execute_reply": "2025-10-08T02:35:19.033881Z",
     "shell.execute_reply.started": "2025-10-08T02:35:19.003979Z"
    }
   },
   "outputs": [],
   "source": [
    "combined_picks = pd.concat([nfl_picks, cfb_picks])"
   ]
  },
  {
   "cell_type": "code",
   "execution_count": 65,
   "id": "312fdc80-40c4-45c8-a463-7b1ff6948fe9",
   "metadata": {
    "execution": {
     "iopub.execute_input": "2025-10-08T02:35:19.715943Z",
     "iopub.status.busy": "2025-10-08T02:35:19.715387Z",
     "iopub.status.idle": "2025-10-08T02:35:19.750162Z",
     "shell.execute_reply": "2025-10-08T02:35:19.749612Z",
     "shell.execute_reply.started": "2025-10-08T02:35:19.715908Z"
    }
   },
   "outputs": [],
   "source": [
    "combined_pick_infos = get_pick_infos(pickers, combined_picks)"
   ]
  },
  {
   "cell_type": "code",
   "execution_count": 66,
   "id": "61f4222e-7a94-4271-830f-4dae7c4360ee",
   "metadata": {
    "execution": {
     "iopub.execute_input": "2025-10-08T02:35:20.570822Z",
     "iopub.status.busy": "2025-10-08T02:35:20.570562Z",
     "iopub.status.idle": "2025-10-08T02:35:27.317574Z",
     "shell.execute_reply": "2025-10-08T02:35:27.317313Z",
     "shell.execute_reply.started": "2025-10-08T02:35:20.570803Z"
    }
   },
   "outputs": [],
   "source": [
    "combined_cdfs = compute_cdf(combined_pick_infos)"
   ]
  },
  {
   "cell_type": "code",
   "execution_count": 67,
   "id": "7476f903-ce1c-4116-9c62-da8cc8a3d127",
   "metadata": {
    "execution": {
     "iopub.execute_input": "2025-10-08T02:35:27.318205Z",
     "iopub.status.busy": "2025-10-08T02:35:27.318127Z",
     "iopub.status.idle": "2025-10-08T02:35:27.326052Z",
     "shell.execute_reply": "2025-10-08T02:35:27.325834Z",
     "shell.execute_reply.started": "2025-10-08T02:35:27.318198Z"
    }
   },
   "outputs": [
    {
     "data": {
      "text/markdown": [
       "## NFL Results"
      ],
      "text/plain": [
       "<IPython.core.display.Markdown object>"
      ]
     },
     "metadata": {},
     "output_type": "display_data"
    }
   ],
   "source": [
    "markdown(\"## NFL Results\")"
   ]
  },
  {
   "cell_type": "code",
   "execution_count": 68,
   "id": "f5d03cbc-a706-4513-ad31-6ab9b559607e",
   "metadata": {
    "execution": {
     "iopub.execute_input": "2025-10-08T02:35:27.326477Z",
     "iopub.status.busy": "2025-10-08T02:35:27.326402Z",
     "iopub.status.idle": "2025-10-08T02:35:27.335907Z",
     "shell.execute_reply": "2025-10-08T02:35:27.335550Z",
     "shell.execute_reply.started": "2025-10-08T02:35:27.326470Z"
    }
   },
   "outputs": [],
   "source": [
    "nfl_pick_infos = get_pick_infos(pickers, nfl_picks)"
   ]
  },
  {
   "cell_type": "code",
   "execution_count": 69,
   "id": "e603e816-d1ba-424c-bb63-abe2cd5d0efd",
   "metadata": {
    "execution": {
     "iopub.execute_input": "2025-10-08T02:35:27.336918Z",
     "iopub.status.busy": "2025-10-08T02:35:27.336838Z",
     "iopub.status.idle": "2025-10-08T02:35:30.886516Z",
     "shell.execute_reply": "2025-10-08T02:35:30.886250Z",
     "shell.execute_reply.started": "2025-10-08T02:35:27.336911Z"
    }
   },
   "outputs": [],
   "source": [
    "nfl_cdfs = compute_cdf(nfl_pick_infos)"
   ]
  },
  {
   "cell_type": "code",
   "execution_count": 70,
   "id": "b0162836-2697-4e48-9d2a-9df3ad5b833e",
   "metadata": {
    "execution": {
     "iopub.execute_input": "2025-10-08T02:35:30.886910Z",
     "iopub.status.busy": "2025-10-08T02:35:30.886835Z",
     "iopub.status.idle": "2025-10-08T02:35:30.895596Z",
     "shell.execute_reply": "2025-10-08T02:35:30.895380Z",
     "shell.execute_reply.started": "2025-10-08T02:35:30.886903Z"
    }
   },
   "outputs": [
    {
     "data": {
      "text/markdown": [
       "## CFB Results"
      ],
      "text/plain": [
       "<IPython.core.display.Markdown object>"
      ]
     },
     "metadata": {},
     "output_type": "display_data"
    }
   ],
   "source": [
    "markdown(\"## CFB Results\")"
   ]
  },
  {
   "cell_type": "code",
   "execution_count": 71,
   "id": "80740afc-dfa8-4bf7-9660-ed7303edd873",
   "metadata": {
    "execution": {
     "iopub.execute_input": "2025-10-08T02:35:30.895921Z",
     "iopub.status.busy": "2025-10-08T02:35:30.895855Z",
     "iopub.status.idle": "2025-10-08T02:35:30.904759Z",
     "shell.execute_reply": "2025-10-08T02:35:30.904530Z",
     "shell.execute_reply.started": "2025-10-08T02:35:30.895915Z"
    }
   },
   "outputs": [],
   "source": [
    "cfb_pick_infos = get_pick_infos(pickers, cfb_picks)"
   ]
  },
  {
   "cell_type": "code",
   "execution_count": 72,
   "id": "d0d1587d-8320-4e81-9c7b-45d7f8dcc3e3",
   "metadata": {
    "execution": {
     "iopub.execute_input": "2025-10-08T02:35:30.905058Z",
     "iopub.status.busy": "2025-10-08T02:35:30.904997Z",
     "iopub.status.idle": "2025-10-08T02:35:34.485780Z",
     "shell.execute_reply": "2025-10-08T02:35:34.485521Z",
     "shell.execute_reply.started": "2025-10-08T02:35:30.905052Z"
    }
   },
   "outputs": [],
   "source": [
    "cfb_cdfs = compute_cdf(cfb_pick_infos)"
   ]
  },
  {
   "cell_type": "code",
   "execution_count": null,
   "id": "e3653f7d-d90b-435b-8dc7-3d96beef2076",
   "metadata": {},
   "outputs": [],
   "source": []
  },
  {
   "cell_type": "code",
   "execution_count": null,
   "id": "75101f07-669a-4d9c-8656-8a57b40ba145",
   "metadata": {},
   "outputs": [],
   "source": []
  },
  {
   "cell_type": "code",
   "execution_count": null,
   "id": "ecbfbbfa-f562-4a0e-97d4-d0334d86503e",
   "metadata": {},
   "outputs": [],
   "source": []
  },
  {
   "cell_type": "code",
   "execution_count": 79,
   "id": "22f9e1d0-b9df-4d83-aecd-1fb94b0920c8",
   "metadata": {
    "execution": {
     "iopub.execute_input": "2025-10-08T02:39:56.497401Z",
     "iopub.status.busy": "2025-10-08T02:39:56.496968Z",
     "iopub.status.idle": "2025-10-08T02:39:56.531473Z",
     "shell.execute_reply": "2025-10-08T02:39:56.531015Z",
     "shell.execute_reply.started": "2025-10-08T02:39:56.497376Z"
    }
   },
   "outputs": [],
   "source": [
    "with open(os.path.join(REPORTS_DIR, f\"degen_sim_{DATE}.md\"), \"w\", encoding=\"utf-8\") as f:\n",
    "    f.write(f\"# Degen Sim Report for {DATE}\\n\")\n",
    "    f.write(\"## Methodology\\n\")\n",
    "    f.write(\"For each person, we have their realized record (W-L-P), and set of American odds. We first convert the American odds to implied probabilities (assuming no house edge), and then we run a Monte Carlo simulation to see the distribution of number of wins according to the implied probabilities.\\n\")\n",
    "    f.write(\"From this distribution, we can then compute the CDF(W) where W is the realized number of wins, where a higher CDF indicates more skill in picking winning bets, and a lower CDF indicates lower skill in picking winning bets. We simulate using 1,000,000 Monte Carlo trials per person.\\n\")\n",
    "    f.write(\"\\n\")\n",
    "    \n",
    "    f.write(\"## Combined (NFL + CFB) Results\\n\")\n",
    "    f.write(\"\\n\")\n",
    "    f.write(combined_cdfs.to_markdown(index=False))\n",
    "    f.write(\"\\n\")\n",
    "\n",
    "    f.write(\"## NFL Results\\n\")\n",
    "    f.write(\"\\n\")\n",
    "    f.write(nfl_cdfs.to_markdown(index=False))\n",
    "    f.write(\"\\n\")\n",
    "\n",
    "    f.write(\"## CFB Results\\n\")\n",
    "    f.write(\"\\n\")\n",
    "    f.write(cfb_cdfs.to_markdown(index=False))\n",
    "    f.write(\"\\n\")"
   ]
  },
  {
   "cell_type": "code",
   "execution_count": null,
   "id": "ad6ff1d7-43bc-4d10-9882-f8c3c843c74e",
   "metadata": {},
   "outputs": [],
   "source": []
  }
 ],
 "metadata": {
  "kernelspec": {
   "display_name": "Python 3 (ipykernel)",
   "language": "python",
   "name": "python3"
  },
  "language_info": {
   "codemirror_mode": {
    "name": "ipython",
    "version": 3
   },
   "file_extension": ".py",
   "mimetype": "text/x-python",
   "name": "python",
   "nbconvert_exporter": "python",
   "pygments_lexer": "ipython3",
   "version": "3.12.7"
  }
 },
 "nbformat": 4,
 "nbformat_minor": 5
}
