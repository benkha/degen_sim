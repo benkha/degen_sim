{
 "cells": [
  {
   "cell_type": "code",
   "execution_count": 1,
   "id": "7e7cc642-050e-4711-b1c5-6984eaf23610",
   "metadata": {
    "execution": {
     "iopub.execute_input": "2025-10-08T01:42:20.781113Z",
     "iopub.status.busy": "2025-10-08T01:42:20.780853Z",
     "iopub.status.idle": "2025-10-08T01:42:20.855392Z",
     "shell.execute_reply": "2025-10-08T01:42:20.855064Z",
     "shell.execute_reply.started": "2025-10-08T01:42:20.781094Z"
    }
   },
   "outputs": [],
   "source": [
    "%load_ext autoreload\n",
    "%autoreload 2\n",
    "%autoreload 2"
   ]
  },
  {
   "cell_type": "code",
   "execution_count": 21,
   "id": "8497593c-61b1-40be-900c-3ed9903b9811",
   "metadata": {
    "execution": {
     "iopub.execute_input": "2025-10-08T01:56:31.305326Z",
     "iopub.status.busy": "2025-10-08T01:56:31.304884Z",
     "iopub.status.idle": "2025-10-08T01:56:31.325122Z",
     "shell.execute_reply": "2025-10-08T01:56:31.324548Z",
     "shell.execute_reply.started": "2025-10-08T01:56:31.305301Z"
    }
   },
   "outputs": [],
   "source": [
    "from degen_sim.common.notebook_utils import hide_raw_cells, markdown"
   ]
  },
  {
   "cell_type": "code",
   "execution_count": 22,
   "id": "761d2a70-3088-47ba-9834-9920db9539d5",
   "metadata": {
    "execution": {
     "iopub.execute_input": "2025-10-08T01:56:31.955050Z",
     "iopub.status.busy": "2025-10-08T01:56:31.954614Z",
     "iopub.status.idle": "2025-10-08T01:56:31.983631Z",
     "shell.execute_reply": "2025-10-08T01:56:31.983044Z",
     "shell.execute_reply.started": "2025-10-08T01:56:31.955024Z"
    }
   },
   "outputs": [
    {
     "data": {
      "text/html": [
       "\n",
       "        <script src=\"https://ajax.googleapis.com/ajax/libs/jquery/3.5.1/jquery.min.js\"></script>\n",
       "        <script>\n",
       "            code_show=true\n",
       "            function code_toggle() {\n",
       "                code_show ? $('div.input').hide() : $('div.input').show();\n",
       "                code_show ? $('div.jp-InputArea').hide() : $('div.jp-InputArea').show();\n",
       "                code_show = !code_show;\n",
       "            }\n",
       "            $(document).ready(code_toggle);\n",
       "        </script>\n",
       "        <form action=\"javascript:code_toggle()\">\n",
       "            <input type=\"submit\" value=\"Toggle Notebook Code\">\n",
       "        </form>\n",
       "    "
      ],
      "text/plain": [
       "<IPython.core.display.HTML object>"
      ]
     },
     "execution_count": 22,
     "metadata": {},
     "output_type": "execute_result"
    }
   ],
   "source": [
    "hide_raw_cells()"
   ]
  },
  {
   "cell_type": "code",
   "execution_count": 23,
   "id": "24caba42-40a0-4e9b-8168-f4441f10b32d",
   "metadata": {
    "execution": {
     "iopub.execute_input": "2025-10-08T01:56:38.538201Z",
     "iopub.status.busy": "2025-10-08T01:56:38.537788Z",
     "iopub.status.idle": "2025-10-08T01:56:38.567987Z",
     "shell.execute_reply": "2025-10-08T01:56:38.567118Z",
     "shell.execute_reply.started": "2025-10-08T01:56:38.538178Z"
    }
   },
   "outputs": [],
   "source": [
    "import numpy as np\n",
    "import pandas as pd\n",
    "import plotly.express as px\n",
    "\n",
    "from datetime import datetime\n",
    "from dateutil.tz import gettz\n",
    "import os\n",
    "import time\n",
    "\n",
    "from dataclasses import dataclass, asdict"
   ]
  },
  {
   "cell_type": "code",
   "execution_count": 24,
   "id": "7dc288fd-d532-41df-bb53-3cf9d8f3611f",
   "metadata": {
    "execution": {
     "iopub.execute_input": "2025-10-08T01:56:39.420812Z",
     "iopub.status.busy": "2025-10-08T01:56:39.420368Z",
     "iopub.status.idle": "2025-10-08T01:56:39.448282Z",
     "shell.execute_reply": "2025-10-08T01:56:39.447586Z",
     "shell.execute_reply.started": "2025-10-08T01:56:39.420786Z"
    }
   },
   "outputs": [],
   "source": [
    "from degen_sim.common.constants import ROOT_DIR, DATA_DIR"
   ]
  },
  {
   "cell_type": "code",
   "execution_count": 25,
   "id": "13a40d6a-48ac-4e6e-9a08-3aa118141b60",
   "metadata": {
    "execution": {
     "iopub.execute_input": "2025-10-08T01:56:39.864880Z",
     "iopub.status.busy": "2025-10-08T01:56:39.864372Z",
     "iopub.status.idle": "2025-10-08T01:56:39.889737Z",
     "shell.execute_reply": "2025-10-08T01:56:39.889127Z",
     "shell.execute_reply.started": "2025-10-08T01:56:39.864853Z"
    }
   },
   "outputs": [],
   "source": [
    "def line_scatter(df, x, y, **kwargs):\n",
    "    fig = px.line(df, x=x, y=y, **kwargs, template=\"plotly_white\")\n",
    "    for data in fig.data:\n",
    "        data.update(mode=\"markers+lines\")\n",
    "    return fig"
   ]
  },
  {
   "cell_type": "code",
   "execution_count": 26,
   "id": "b0d1784e-6450-4cd0-aacd-7fbd6ab32089",
   "metadata": {
    "execution": {
     "iopub.execute_input": "2025-10-08T01:56:40.153122Z",
     "iopub.status.busy": "2025-10-08T01:56:40.152802Z",
     "iopub.status.idle": "2025-10-08T01:56:40.173842Z",
     "shell.execute_reply": "2025-10-08T01:56:40.173296Z",
     "shell.execute_reply.started": "2025-10-08T01:56:40.153099Z"
    }
   },
   "outputs": [],
   "source": [
    "picks = pd.read_csv(os.path.join(DATA_DIR, \"parlay_tracker_nfl.csv\"))"
   ]
  },
  {
   "cell_type": "code",
   "execution_count": 27,
   "id": "c493a733-bb2a-4721-a983-032aa5003dc8",
   "metadata": {
    "execution": {
     "iopub.execute_input": "2025-10-08T01:56:40.659540Z",
     "iopub.status.busy": "2025-10-08T01:56:40.659109Z",
     "iopub.status.idle": "2025-10-08T01:56:40.689743Z",
     "shell.execute_reply": "2025-10-08T01:56:40.688964Z",
     "shell.execute_reply.started": "2025-10-08T01:56:40.659513Z"
    }
   },
   "outputs": [],
   "source": [
    "picks = picks[~picks.Win.isna()]"
   ]
  },
  {
   "cell_type": "code",
   "execution_count": 28,
   "id": "c5fab3cb-798f-4ff0-8bc0-8e55e7a2f64c",
   "metadata": {
    "execution": {
     "iopub.execute_input": "2025-10-08T01:56:41.123418Z",
     "iopub.status.busy": "2025-10-08T01:56:41.122983Z",
     "iopub.status.idle": "2025-10-08T01:56:41.152401Z",
     "shell.execute_reply": "2025-10-08T01:56:41.151167Z",
     "shell.execute_reply.started": "2025-10-08T01:56:41.123390Z"
    }
   },
   "outputs": [],
   "source": [
    "pickers = sorted(picks[\"Pick\"].unique())"
   ]
  },
  {
   "cell_type": "code",
   "execution_count": 29,
   "id": "74315356-40e6-4f79-8e29-abb110332a99",
   "metadata": {
    "execution": {
     "iopub.execute_input": "2025-10-08T01:56:41.339803Z",
     "iopub.status.busy": "2025-10-08T01:56:41.339158Z",
     "iopub.status.idle": "2025-10-08T01:56:41.366156Z",
     "shell.execute_reply": "2025-10-08T01:56:41.365623Z",
     "shell.execute_reply.started": "2025-10-08T01:56:41.339758Z"
    }
   },
   "outputs": [],
   "source": [
    "@dataclass\n",
    "class PickInfo:\n",
    "    \"\"\"\n",
    "    Represents a product with a name, price, and quantity in stock.\n",
    "    \"\"\"\n",
    "    name: str\n",
    "    num_wins: int\n",
    "    num_losses: int\n",
    "    num_pushes: int\n",
    "    odds: list[float]"
   ]
  },
  {
   "cell_type": "code",
   "execution_count": 30,
   "id": "b5e82f29-8d94-4fee-a099-aee5a578be01",
   "metadata": {
    "execution": {
     "iopub.execute_input": "2025-10-08T01:56:41.570233Z",
     "iopub.status.busy": "2025-10-08T01:56:41.569773Z",
     "iopub.status.idle": "2025-10-08T01:56:41.596568Z",
     "shell.execute_reply": "2025-10-08T01:56:41.595958Z",
     "shell.execute_reply.started": "2025-10-08T01:56:41.570206Z"
    }
   },
   "outputs": [],
   "source": [
    "def american_to_implied_prob(odds):\n",
    "    \"\"\"\n",
    "    Convert American odds to implied probability.\n",
    "\n",
    "    Parameters:\n",
    "        odds (int or float): American odds (e.g., +150, -120)\n",
    "\n",
    "    Returns:\n",
    "        float: Implied probability as a percentage (e.g., 40.0 for +150)\n",
    "    \"\"\"\n",
    "    if odds > 0:\n",
    "        prob = 100 / (odds + 100)\n",
    "    elif odds < 0:\n",
    "        prob = abs(odds) / (abs(odds) + 100)\n",
    "    else:\n",
    "        raise ValueError(\"Odds cannot be zero\")\n",
    "\n",
    "    return prob\n"
   ]
  },
  {
   "cell_type": "code",
   "execution_count": 31,
   "id": "cd046bc7-68f6-4ba7-bf1f-8b666cb139ea",
   "metadata": {
    "execution": {
     "iopub.execute_input": "2025-10-08T01:56:41.792780Z",
     "iopub.status.busy": "2025-10-08T01:56:41.792147Z",
     "iopub.status.idle": "2025-10-08T01:56:41.827560Z",
     "shell.execute_reply": "2025-10-08T01:56:41.827104Z",
     "shell.execute_reply.started": "2025-10-08T01:56:41.792729Z"
    }
   },
   "outputs": [],
   "source": [
    "pick_infos = []\n",
    "for picker in pickers:\n",
    "    sub_df = picks[picks.Pick == picker].copy()\n",
    "    odds = [american_to_implied_prob(odds) for odds in sub_df[\"Odds\"]]\n",
    "    num_wins = len(sub_df[sub_df[\"Win\"] == \"Y\"])\n",
    "    num_losses = len(sub_df[sub_df[\"Win\"] == \"N\"])\n",
    "    num_pushes = len(sub_df[sub_df[\"Win\"] == \"P\"])\n",
    "    assert num_wins + num_losses + num_pushes == len(sub_df)\n",
    "    pick_info = PickInfo(name=picker, num_wins=num_wins, num_losses=num_losses, num_pushes=num_pushes, odds=odds)\n",
    "    pick_infos.append(pick_info)"
   ]
  },
  {
   "cell_type": "code",
   "execution_count": 32,
   "id": "fa45c74f-7d89-4ff8-a60c-5d0052e7cd06",
   "metadata": {
    "execution": {
     "iopub.execute_input": "2025-10-08T01:56:42.131101Z",
     "iopub.status.busy": "2025-10-08T01:56:42.130566Z",
     "iopub.status.idle": "2025-10-08T01:56:42.160201Z",
     "shell.execute_reply": "2025-10-08T01:56:42.159562Z",
     "shell.execute_reply.started": "2025-10-08T01:56:42.131073Z"
    }
   },
   "outputs": [],
   "source": [
    "def simulate_pick_info(pick_info, num_trials=100, seed=0):\n",
    "    np.random.seed(seed)\n",
    "    \n",
    "    num_games = pick_info.num_wins + pick_info.num_losses + pick_info.num_pushes\n",
    "    df = pd.DataFrame({\"game_index\": range(num_games * num_trials), \"p\": np.random.uniform(low=0.0, high=1.0, size=num_games * num_trials)})\n",
    "    df[\"trial_index\"] = df[\"game_index\"] // num_games\n",
    "    df[\"implied_prob\"] = pick_info.odds * num_trials\n",
    "    df[\"win\"] = np.where(df[\"p\"] <= df[\"implied_prob\"], 1.0, 0.0)\n",
    "\n",
    "    total_wins = df.groupby(\"trial_index\")[[\"win\"]].sum().reset_index()\n",
    "    return total_wins"
   ]
  },
  {
   "cell_type": "code",
   "execution_count": 33,
   "id": "f5d03cbc-a706-4513-ad31-6ab9b559607e",
   "metadata": {
    "execution": {
     "iopub.execute_input": "2025-10-08T01:56:42.344101Z",
     "iopub.status.busy": "2025-10-08T01:56:42.343415Z",
     "iopub.status.idle": "2025-10-08T01:56:45.962537Z",
     "shell.execute_reply": "2025-10-08T01:56:45.962262Z",
     "shell.execute_reply.started": "2025-10-08T01:56:42.344052Z"
    }
   },
   "outputs": [],
   "source": [
    "cdfs = []\n",
    "for pick_info in pick_infos:\n",
    "    result = simulate_pick_info(pick_info, num_trials=1_000_000)\n",
    "    num_wins = pick_info.num_wins\n",
    "    cdf = len(result[result.win <= num_wins]) / len(result)\n",
    "    cdfs.append(cdf)"
   ]
  },
  {
   "cell_type": "code",
   "execution_count": 34,
   "id": "4c01b3a9-f1d8-4b14-ada2-e87fb993d506",
   "metadata": {
    "execution": {
     "iopub.execute_input": "2025-10-08T01:56:45.963215Z",
     "iopub.status.busy": "2025-10-08T01:56:45.963140Z",
     "iopub.status.idle": "2025-10-08T01:56:45.971744Z",
     "shell.execute_reply": "2025-10-08T01:56:45.971495Z",
     "shell.execute_reply.started": "2025-10-08T01:56:45.963208Z"
    }
   },
   "outputs": [],
   "source": [
    "cdf_df = pd.DataFrame([asdict(pick_info) for pick_info in pick_infos])\n",
    "cdf_df[\"cdf\"] = cdfs"
   ]
  },
  {
   "cell_type": "code",
   "execution_count": 35,
   "id": "9cdea2b1-288c-4210-969c-2785b27572b2",
   "metadata": {
    "execution": {
     "iopub.execute_input": "2025-10-08T01:56:45.972042Z",
     "iopub.status.busy": "2025-10-08T01:56:45.971974Z",
     "iopub.status.idle": "2025-10-08T01:56:45.980868Z",
     "shell.execute_reply": "2025-10-08T01:56:45.980689Z",
     "shell.execute_reply.started": "2025-10-08T01:56:45.972036Z"
    }
   },
   "outputs": [
    {
     "data": {
      "text/html": [
       "<div>\n",
       "<style scoped>\n",
       "    .dataframe tbody tr th:only-of-type {\n",
       "        vertical-align: middle;\n",
       "    }\n",
       "\n",
       "    .dataframe tbody tr th {\n",
       "        vertical-align: top;\n",
       "    }\n",
       "\n",
       "    .dataframe thead th {\n",
       "        text-align: right;\n",
       "    }\n",
       "</style>\n",
       "<table border=\"1\" class=\"dataframe\">\n",
       "  <thead>\n",
       "    <tr style=\"text-align: right;\">\n",
       "      <th></th>\n",
       "      <th>name</th>\n",
       "      <th>num_wins</th>\n",
       "      <th>num_losses</th>\n",
       "      <th>num_pushes</th>\n",
       "      <th>cdf</th>\n",
       "    </tr>\n",
       "  </thead>\n",
       "  <tbody>\n",
       "    <tr>\n",
       "      <th>1</th>\n",
       "      <td>Arun</td>\n",
       "      <td>3</td>\n",
       "      <td>1</td>\n",
       "      <td>0</td>\n",
       "      <td>0.924610</td>\n",
       "    </tr>\n",
       "    <tr>\n",
       "      <th>6</th>\n",
       "      <td>Kunal</td>\n",
       "      <td>3</td>\n",
       "      <td>1</td>\n",
       "      <td>0</td>\n",
       "      <td>0.918674</td>\n",
       "    </tr>\n",
       "    <tr>\n",
       "      <th>0</th>\n",
       "      <td>Ananya</td>\n",
       "      <td>2</td>\n",
       "      <td>2</td>\n",
       "      <td>0</td>\n",
       "      <td>0.672756</td>\n",
       "    </tr>\n",
       "    <tr>\n",
       "      <th>2</th>\n",
       "      <td>Ben</td>\n",
       "      <td>2</td>\n",
       "      <td>2</td>\n",
       "      <td>0</td>\n",
       "      <td>0.646160</td>\n",
       "    </tr>\n",
       "    <tr>\n",
       "      <th>9</th>\n",
       "      <td>Ryan</td>\n",
       "      <td>2</td>\n",
       "      <td>2</td>\n",
       "      <td>0</td>\n",
       "      <td>0.592147</td>\n",
       "    </tr>\n",
       "    <tr>\n",
       "      <th>4</th>\n",
       "      <td>Cristian</td>\n",
       "      <td>2</td>\n",
       "      <td>2</td>\n",
       "      <td>0</td>\n",
       "      <td>0.508063</td>\n",
       "    </tr>\n",
       "    <tr>\n",
       "      <th>3</th>\n",
       "      <td>Caleb</td>\n",
       "      <td>1</td>\n",
       "      <td>3</td>\n",
       "      <td>0</td>\n",
       "      <td>0.286183</td>\n",
       "    </tr>\n",
       "    <tr>\n",
       "      <th>5</th>\n",
       "      <td>Daniel</td>\n",
       "      <td>1</td>\n",
       "      <td>3</td>\n",
       "      <td>0</td>\n",
       "      <td>0.239734</td>\n",
       "    </tr>\n",
       "    <tr>\n",
       "      <th>8</th>\n",
       "      <td>Michael</td>\n",
       "      <td>1</td>\n",
       "      <td>3</td>\n",
       "      <td>0</td>\n",
       "      <td>0.227499</td>\n",
       "    </tr>\n",
       "    <tr>\n",
       "      <th>7</th>\n",
       "      <td>Kyle</td>\n",
       "      <td>1</td>\n",
       "      <td>3</td>\n",
       "      <td>0</td>\n",
       "      <td>0.201340</td>\n",
       "    </tr>\n",
       "  </tbody>\n",
       "</table>\n",
       "</div>"
      ],
      "text/plain": [
       "       name  num_wins  num_losses  num_pushes       cdf\n",
       "1      Arun         3           1           0  0.924610\n",
       "6     Kunal         3           1           0  0.918674\n",
       "0    Ananya         2           2           0  0.672756\n",
       "2       Ben         2           2           0  0.646160\n",
       "9      Ryan         2           2           0  0.592147\n",
       "4  Cristian         2           2           0  0.508063\n",
       "3     Caleb         1           3           0  0.286183\n",
       "5    Daniel         1           3           0  0.239734\n",
       "8   Michael         1           3           0  0.227499\n",
       "7      Kyle         1           3           0  0.201340"
      ]
     },
     "execution_count": 35,
     "metadata": {},
     "output_type": "execute_result"
    }
   ],
   "source": [
    "cdf_df.sort_values(by=\"cdf\", ascending=False).drop(columns=\"odds\")"
   ]
  },
  {
   "cell_type": "code",
   "execution_count": null,
   "id": "e603e816-d1ba-424c-bb63-abe2cd5d0efd",
   "metadata": {},
   "outputs": [],
   "source": []
  },
  {
   "cell_type": "code",
   "execution_count": null,
   "id": "b0162836-2697-4e48-9d2a-9df3ad5b833e",
   "metadata": {},
   "outputs": [],
   "source": []
  }
 ],
 "metadata": {
  "kernelspec": {
   "display_name": "Python 3 (ipykernel)",
   "language": "python",
   "name": "python3"
  },
  "language_info": {
   "codemirror_mode": {
    "name": "ipython",
    "version": 3
   },
   "file_extension": ".py",
   "mimetype": "text/x-python",
   "name": "python",
   "nbconvert_exporter": "python",
   "pygments_lexer": "ipython3",
   "version": "3.12.7"
  }
 },
 "nbformat": 4,
 "nbformat_minor": 5
}
