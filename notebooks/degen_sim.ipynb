{
 "cells": [
  {
   "cell_type": "code",
   "execution_count": null,
   "id": "7e7cc642-050e-4711-b1c5-6984eaf23610",
   "metadata": {},
   "outputs": [],
   "source": [
    "%load_ext autoreload\n",
    "%autoreload 2\n",
    "%autoreload 2"
   ]
  },
  {
   "cell_type": "code",
   "execution_count": null,
   "id": "8497593c-61b1-40be-900c-3ed9903b9811",
   "metadata": {},
   "outputs": [],
   "source": [
    "from degen_sim.common.notebook_utils import hide_raw_cells, markdown"
   ]
  },
  {
   "cell_type": "code",
   "execution_count": null,
   "id": "761d2a70-3088-47ba-9834-9920db9539d5",
   "metadata": {},
   "outputs": [],
   "source": [
    "# hide_raw_cells()"
   ]
  },
  {
   "cell_type": "code",
   "execution_count": null,
   "id": "24caba42-40a0-4e9b-8168-f4441f10b32d",
   "metadata": {},
   "outputs": [],
   "source": [
    "import numpy as np\n",
    "import pandas as pd\n",
    "import plotly.express as px\n",
    "\n",
    "from datetime import datetime\n",
    "from dateutil.tz import gettz\n",
    "import os\n",
    "import time\n",
    "\n",
    "from dataclasses import dataclass, asdict"
   ]
  },
  {
   "cell_type": "code",
   "execution_count": null,
   "id": "7dc288fd-d532-41df-bb53-3cf9d8f3611f",
   "metadata": {},
   "outputs": [],
   "source": [
    "from degen_sim.common.constants import ROOT_DIR, DATA_DIR, REPORTS_DIR"
   ]
  },
  {
   "cell_type": "code",
   "execution_count": null,
   "id": "13a40d6a-48ac-4e6e-9a08-3aa118141b60",
   "metadata": {},
   "outputs": [],
   "source": [
    "def line_scatter(df, x, y, **kwargs):\n",
    "    fig = px.line(df, x=x, y=y, **kwargs, template=\"plotly_white\")\n",
    "    for data in fig.data:\n",
    "        data.update(mode=\"markers+lines\")\n",
    "    return fig"
   ]
  },
  {
   "cell_type": "code",
   "execution_count": null,
   "id": "adbb5aca-e193-4fc8-8490-825edcb18157",
   "metadata": {},
   "outputs": [],
   "source": [
    "DATE = \"20251014\""
   ]
  },
  {
   "cell_type": "code",
   "execution_count": null,
   "id": "b0d1784e-6450-4cd0-aacd-7fbd6ab32089",
   "metadata": {},
   "outputs": [],
   "source": [
    "nfl_picks = pd.read_csv(os.path.join(DATA_DIR, \"parlay_tracker_nfl.csv\"))\n",
    "cfb_picks = pd.read_csv(os.path.join(DATA_DIR, \"parlay_tracker_cfb.csv\"))"
   ]
  },
  {
   "cell_type": "code",
   "execution_count": null,
   "id": "c493a733-bb2a-4721-a983-032aa5003dc8",
   "metadata": {},
   "outputs": [],
   "source": [
    "nfl_picks = nfl_picks[~nfl_picks.Win.isna()]"
   ]
  },
  {
   "cell_type": "code",
   "execution_count": null,
   "id": "c5fab3cb-798f-4ff0-8bc0-8e55e7a2f64c",
   "metadata": {},
   "outputs": [],
   "source": [
    "pickers = sorted(set(nfl_picks[\"Pick\"]) | set(cfb_picks[\"Pick\"]))"
   ]
  },
  {
   "cell_type": "code",
   "execution_count": null,
   "id": "b084592f-bb61-4d7c-becc-519e4bbcc0d9",
   "metadata": {},
   "outputs": [],
   "source": [
    "markdown(\"## Methodology\\n\")\n",
    "markdown(\"For each person, we have their realized record (w-l-p), and set of American odds. We first convert the American odds to implied probabilities (assuming no house edge), and then we run a Monte Carlo simulation to see the distribution of number of wins (W) according to the implied probabilities.\\n\")\n",
    "markdown(\"From this distribution, we can then compute the p-value [P(W >= w)] where w is the realized number of wins, where a lower p-value indicates more skill in picking winning bets, and a higher p-value indicates lower skill in picking winning bets. We simulate using 1,000,000 Monte Carlo trials per person.\\n\")"
   ]
  },
  {
   "cell_type": "code",
   "execution_count": null,
   "id": "74315356-40e6-4f79-8e29-abb110332a99",
   "metadata": {},
   "outputs": [],
   "source": [
    "@dataclass\n",
    "class PickInfo:\n",
    "    \"\"\"\n",
    "    Represents a product with a name, price, and quantity in stock.\n",
    "    \"\"\"\n",
    "    name: str\n",
    "    num_wins: int\n",
    "    num_losses: int\n",
    "    num_pushes: int\n",
    "    odds: list[float]"
   ]
  },
  {
   "cell_type": "code",
   "execution_count": null,
   "id": "b5e82f29-8d94-4fee-a099-aee5a578be01",
   "metadata": {},
   "outputs": [],
   "source": [
    "def american_to_implied_prob(odds):\n",
    "    \"\"\"\n",
    "    Convert American odds to implied probability.\n",
    "\n",
    "    Parameters:\n",
    "        odds (int or float): American odds (e.g., +150, -120)\n",
    "\n",
    "    Returns:\n",
    "        float: Implied probability as a percentage (e.g., 40.0 for +150)\n",
    "    \"\"\"\n",
    "    if odds > 0:\n",
    "        prob = 100 / (odds + 100)\n",
    "    elif odds < 0:\n",
    "        prob = abs(odds) / (abs(odds) + 100)\n",
    "    else:\n",
    "        raise ValueError(\"Odds cannot be zero\")\n",
    "\n",
    "    return prob\n"
   ]
  },
  {
   "cell_type": "code",
   "execution_count": null,
   "id": "1b603e69-578c-49ca-bdeb-674a745b4576",
   "metadata": {},
   "outputs": [],
   "source": [
    "def get_pick_infos(pickers, picks):\n",
    "    pick_infos = []\n",
    "    for picker in pickers:\n",
    "        sub_df = picks[picks.Pick == picker].copy()\n",
    "        odds = [american_to_implied_prob(odds) for odds in sub_df[\"Odds\"]]\n",
    "        num_wins = len(sub_df[sub_df[\"Win\"] == \"Y\"])\n",
    "        num_losses = len(sub_df[sub_df[\"Win\"] == \"N\"])\n",
    "        num_pushes = len(sub_df[sub_df[\"Win\"] == \"P\"])\n",
    "        assert num_wins + num_losses + num_pushes == len(sub_df)\n",
    "        pick_info = PickInfo(name=picker, num_wins=num_wins, num_losses=num_losses, num_pushes=num_pushes, odds=odds)\n",
    "        pick_infos.append(pick_info)\n",
    "    return pick_infos"
   ]
  },
  {
   "cell_type": "code",
   "execution_count": null,
   "id": "fa45c74f-7d89-4ff8-a60c-5d0052e7cd06",
   "metadata": {},
   "outputs": [],
   "source": [
    "def simulate_pick_info(pick_info, num_trials=100, seed=0):\n",
    "    np.random.seed(seed)\n",
    "    \n",
    "    num_games = pick_info.num_wins + pick_info.num_losses + pick_info.num_pushes\n",
    "    df = pd.DataFrame({\"game_index\": range(num_games * num_trials), \"p\": np.random.uniform(low=0.0, high=1.0, size=num_games * num_trials)})\n",
    "    df[\"trial_index\"] = df[\"game_index\"] // num_games\n",
    "    df[\"implied_prob\"] = pick_info.odds * num_trials\n",
    "    df[\"win\"] = np.where(df[\"p\"] <= df[\"implied_prob\"], 1.0, 0.0)\n",
    "\n",
    "    total_wins = df.groupby(\"trial_index\")[[\"win\"]].sum().reset_index()\n",
    "    return total_wins"
   ]
  },
  {
   "cell_type": "code",
   "execution_count": null,
   "id": "1ac5092e-42b2-4b89-b704-d5d02b06bd95",
   "metadata": {},
   "outputs": [],
   "source": [
    "def compute_cdf(pick_infos):\n",
    "    cdfs = []\n",
    "    for pick_info in pick_infos:\n",
    "        result = simulate_pick_info(pick_info, num_trials=1_000_000)\n",
    "        num_wins = pick_info.num_wins\n",
    "        cdf = len(result[result.win >= num_wins]) / len(result)\n",
    "        cdfs.append(cdf)\n",
    "    cdf_df = pd.DataFrame([asdict(pick_info) for pick_info in pick_infos])\n",
    "    cdf_df[\"p_value\"] = cdfs\n",
    "    return cdf_df.sort_values(by=\"p_value\").drop(columns=\"odds\")"
   ]
  },
  {
   "cell_type": "code",
   "execution_count": null,
   "id": "91355fb7-c54b-47a7-9474-ba49afad82c8",
   "metadata": {},
   "outputs": [],
   "source": [
    "markdown(\"## Combined (NFL + CFB) Results\")"
   ]
  },
  {
   "cell_type": "code",
   "execution_count": null,
   "id": "b5b1f2c4-a14a-44a8-9ba3-3454048ee04b",
   "metadata": {},
   "outputs": [],
   "source": [
    "combined_picks = pd.concat([nfl_picks, cfb_picks])"
   ]
  },
  {
   "cell_type": "code",
   "execution_count": null,
   "id": "312fdc80-40c4-45c8-a463-7b1ff6948fe9",
   "metadata": {},
   "outputs": [],
   "source": [
    "combined_pick_infos = get_pick_infos(pickers, combined_picks)"
   ]
  },
  {
   "cell_type": "code",
   "execution_count": null,
   "id": "61f4222e-7a94-4271-830f-4dae7c4360ee",
   "metadata": {},
   "outputs": [],
   "source": [
    "combined_cdfs = compute_cdf(combined_pick_infos)"
   ]
  },
  {
   "cell_type": "code",
   "execution_count": null,
   "id": "7476f903-ce1c-4116-9c62-da8cc8a3d127",
   "metadata": {},
   "outputs": [],
   "source": [
    "markdown(\"## NFL Results\")"
   ]
  },
  {
   "cell_type": "code",
   "execution_count": null,
   "id": "f5d03cbc-a706-4513-ad31-6ab9b559607e",
   "metadata": {},
   "outputs": [],
   "source": [
    "nfl_pick_infos = get_pick_infos(pickers, nfl_picks)"
   ]
  },
  {
   "cell_type": "code",
   "execution_count": null,
   "id": "e603e816-d1ba-424c-bb63-abe2cd5d0efd",
   "metadata": {},
   "outputs": [],
   "source": [
    "nfl_cdfs = compute_cdf(nfl_pick_infos)"
   ]
  },
  {
   "cell_type": "code",
   "execution_count": null,
   "id": "b0162836-2697-4e48-9d2a-9df3ad5b833e",
   "metadata": {},
   "outputs": [],
   "source": [
    "markdown(\"## CFB Results\")"
   ]
  },
  {
   "cell_type": "code",
   "execution_count": null,
   "id": "80740afc-dfa8-4bf7-9660-ed7303edd873",
   "metadata": {},
   "outputs": [],
   "source": [
    "cfb_pick_infos = get_pick_infos(pickers, cfb_picks)"
   ]
  },
  {
   "cell_type": "code",
   "execution_count": null,
   "id": "d0d1587d-8320-4e81-9c7b-45d7f8dcc3e3",
   "metadata": {},
   "outputs": [],
   "source": [
    "cfb_cdfs = compute_cdf(cfb_pick_infos)"
   ]
  },
  {
   "cell_type": "code",
   "execution_count": null,
   "id": "e3653f7d-d90b-435b-8dc7-3d96beef2076",
   "metadata": {},
   "outputs": [],
   "source": []
  },
  {
   "cell_type": "code",
   "execution_count": null,
   "id": "75101f07-669a-4d9c-8656-8a57b40ba145",
   "metadata": {},
   "outputs": [],
   "source": []
  },
  {
   "cell_type": "code",
   "execution_count": null,
   "id": "ecbfbbfa-f562-4a0e-97d4-d0334d86503e",
   "metadata": {},
   "outputs": [],
   "source": []
  },
  {
   "cell_type": "code",
   "execution_count": null,
   "id": "22f9e1d0-b9df-4d83-aecd-1fb94b0920c8",
   "metadata": {},
   "outputs": [],
   "source": [
    "with open(os.path.join(REPORTS_DIR, f\"degen_sim_{DATE}.md\"), \"w\", encoding=\"utf-8\") as f:\n",
    "    f.write(f\"# Degen Sim Report for {DATE}\\n\")\n",
    "    f.write(\"## Methodology\\n\")\n",
    "    f.write(\"For each person, we have their realized record (w-l-p), and set of American odds. We first convert the American odds to implied probabilities (assuming no house edge), and then we run a Monte Carlo simulation to see the distribution of number of wins (W) according to the implied probabilities.\\n\")\n",
    "    f.write(\"From this distribution, we can then compute the p-value [P(W >= w)] where w is the realized number of wins, where a lower p-value indicates more skill in picking winning bets, and a higher p-value indicates lower skill in picking winning bets. We simulate using 1,000,000 Monte Carlo trials per person.\\n\")\n",
    "    f.write(\"\\n\")\n",
    "    \n",
    "    f.write(\"## Combined (NFL + CFB) Results\\n\")\n",
    "    f.write(\"\\n\")\n",
    "    f.write(combined_cdfs.to_markdown(index=False))\n",
    "    f.write(\"\\n\")\n",
    "\n",
    "    f.write(\"## NFL Results\\n\")\n",
    "    f.write(\"\\n\")\n",
    "    f.write(nfl_cdfs.to_markdown(index=False))\n",
    "    f.write(\"\\n\")\n",
    "\n",
    "    f.write(\"## CFB Results\\n\")\n",
    "    f.write(\"\\n\")\n",
    "    f.write(cfb_cdfs.to_markdown(index=False))\n",
    "    f.write(\"\\n\")"
   ]
  },
  {
   "cell_type": "code",
   "execution_count": null,
   "id": "ad6ff1d7-43bc-4d10-9882-f8c3c843c74e",
   "metadata": {},
   "outputs": [],
   "source": []
  }
 ],
 "metadata": {
  "language_info": {
   "name": "python"
  }
 },
 "nbformat": 4,
 "nbformat_minor": 5
}
