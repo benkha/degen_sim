{
 "cells": [
  {
   "cell_type": "code",
   "execution_count": 1,
   "id": "7e7cc642-050e-4711-b1c5-6984eaf23610",
   "metadata": {
    "execution": {
     "iopub.execute_input": "2025-10-06T01:41:29.877690Z",
     "iopub.status.busy": "2025-10-06T01:41:29.877393Z",
     "iopub.status.idle": "2025-10-06T01:41:29.953496Z",
     "shell.execute_reply": "2025-10-06T01:41:29.953186Z",
     "shell.execute_reply.started": "2025-10-06T01:41:29.877671Z"
    }
   },
   "outputs": [],
   "source": [
    "%load_ext autoreload\n",
    "%autoreload 2\n",
    "%autoreload 2"
   ]
  },
  {
   "cell_type": "code",
   "execution_count": 5,
   "id": "24caba42-40a0-4e9b-8168-f4441f10b32d",
   "metadata": {
    "execution": {
     "iopub.execute_input": "2025-10-06T01:41:57.145730Z",
     "iopub.status.busy": "2025-10-06T01:41:57.145300Z",
     "iopub.status.idle": "2025-10-06T01:41:57.383088Z",
     "shell.execute_reply": "2025-10-06T01:41:57.382830Z",
     "shell.execute_reply.started": "2025-10-06T01:41:57.145702Z"
    }
   },
   "outputs": [],
   "source": [
    "import numpy as np\n",
    "import pandas as pd\n",
    "import plotly.express as px\n",
    "\n",
    "from datetime import datetime\n",
    "from dateutil.tz import gettz\n",
    "import os\n",
    "import time"
   ]
  },
  {
   "cell_type": "code",
   "execution_count": 6,
   "id": "13a40d6a-48ac-4e6e-9a08-3aa118141b60",
   "metadata": {
    "execution": {
     "iopub.execute_input": "2025-10-06T01:41:59.637109Z",
     "iopub.status.busy": "2025-10-06T01:41:59.636667Z",
     "iopub.status.idle": "2025-10-06T01:41:59.662759Z",
     "shell.execute_reply": "2025-10-06T01:41:59.661786Z",
     "shell.execute_reply.started": "2025-10-06T01:41:59.637085Z"
    }
   },
   "outputs": [],
   "source": [
    "def line_scatter(df, x, y, **kwargs):\n",
    "    fig = px.line(df, x=x, y=y, **kwargs, template=\"plotly_white\")\n",
    "    for data in fig.data:\n",
    "        data.update(mode=\"markers+lines\")\n",
    "    return fig"
   ]
  },
  {
   "cell_type": "code",
   "execution_count": null,
   "id": "b0d1784e-6450-4cd0-aacd-7fbd6ab32089",
   "metadata": {},
   "outputs": [],
   "source": []
  }
 ],
 "metadata": {
  "kernelspec": {
   "display_name": "Python 3 (ipykernel)",
   "language": "python",
   "name": "python3"
  },
  "language_info": {
   "codemirror_mode": {
    "name": "ipython",
    "version": 3
   },
   "file_extension": ".py",
   "mimetype": "text/x-python",
   "name": "python",
   "nbconvert_exporter": "python",
   "pygments_lexer": "ipython3",
   "version": "3.12.7"
  }
 },
 "nbformat": 4,
 "nbformat_minor": 5
}
