{
 "cells": [
  {
   "cell_type": "code",
   "execution_count": 1,
   "id": "7e7cc642-050e-4711-b1c5-6984eaf23610",
   "metadata": {
    "execution": {
     "iopub.execute_input": "2025-10-08T02:03:44.148204Z",
     "iopub.status.busy": "2025-10-08T02:03:44.147929Z",
     "iopub.status.idle": "2025-10-08T02:03:44.187792Z",
     "shell.execute_reply": "2025-10-08T02:03:44.187299Z",
     "shell.execute_reply.started": "2025-10-08T02:03:44.148184Z"
    }
   },
   "outputs": [],
   "source": [
    "%load_ext autoreload\n",
    "%autoreload 2\n",
    "%autoreload 2"
   ]
  },
  {
   "cell_type": "code",
   "execution_count": 2,
   "id": "8497593c-61b1-40be-900c-3ed9903b9811",
   "metadata": {
    "execution": {
     "iopub.execute_input": "2025-10-08T02:03:44.976755Z",
     "iopub.status.busy": "2025-10-08T02:03:44.975937Z",
     "iopub.status.idle": "2025-10-08T02:03:44.998593Z",
     "shell.execute_reply": "2025-10-08T02:03:44.997972Z",
     "shell.execute_reply.started": "2025-10-08T02:03:44.976719Z"
    }
   },
   "outputs": [],
   "source": [
    "from degen_sim.common.notebook_utils import hide_raw_cells, markdown"
   ]
  },
  {
   "cell_type": "code",
   "execution_count": 3,
   "id": "761d2a70-3088-47ba-9834-9920db9539d5",
   "metadata": {
    "execution": {
     "iopub.execute_input": "2025-10-08T02:03:45.846224Z",
     "iopub.status.busy": "2025-10-08T02:03:45.845786Z",
     "iopub.status.idle": "2025-10-08T02:03:45.869721Z",
     "shell.execute_reply": "2025-10-08T02:03:45.869070Z",
     "shell.execute_reply.started": "2025-10-08T02:03:45.846197Z"
    }
   },
   "outputs": [
    {
     "data": {
      "text/html": [
       "\n",
       "        <script src=\"https://ajax.googleapis.com/ajax/libs/jquery/3.5.1/jquery.min.js\"></script>\n",
       "        <script>\n",
       "            code_show=true\n",
       "            function code_toggle() {\n",
       "                code_show ? $('div.input').hide() : $('div.input').show();\n",
       "                code_show ? $('div.jp-InputArea').hide() : $('div.jp-InputArea').show();\n",
       "                code_show = !code_show;\n",
       "            }\n",
       "            $(document).ready(code_toggle);\n",
       "        </script>\n",
       "        <form action=\"javascript:code_toggle()\">\n",
       "            <input type=\"submit\" value=\"Toggle Notebook Code\">\n",
       "        </form>\n",
       "    "
      ],
      "text/plain": [
       "<IPython.core.display.HTML object>"
      ]
     },
     "execution_count": 3,
     "metadata": {},
     "output_type": "execute_result"
    }
   ],
   "source": [
    "hide_raw_cells()"
   ]
  },
  {
   "cell_type": "code",
   "execution_count": 4,
   "id": "24caba42-40a0-4e9b-8168-f4441f10b32d",
   "metadata": {
    "execution": {
     "iopub.execute_input": "2025-10-08T02:03:52.157839Z",
     "iopub.status.busy": "2025-10-08T02:03:52.157580Z",
     "iopub.status.idle": "2025-10-08T02:03:52.390901Z",
     "shell.execute_reply": "2025-10-08T02:03:52.390635Z",
     "shell.execute_reply.started": "2025-10-08T02:03:52.157821Z"
    }
   },
   "outputs": [],
   "source": [
    "import numpy as np\n",
    "import pandas as pd\n",
    "import plotly.express as px\n",
    "\n",
    "from datetime import datetime\n",
    "from dateutil.tz import gettz\n",
    "import os\n",
    "import time\n",
    "\n",
    "from dataclasses import dataclass, asdict"
   ]
  },
  {
   "cell_type": "code",
   "execution_count": 5,
   "id": "7dc288fd-d532-41df-bb53-3cf9d8f3611f",
   "metadata": {
    "execution": {
     "iopub.execute_input": "2025-10-08T02:03:52.405225Z",
     "iopub.status.busy": "2025-10-08T02:03:52.405110Z",
     "iopub.status.idle": "2025-10-08T02:03:52.413123Z",
     "shell.execute_reply": "2025-10-08T02:03:52.412868Z",
     "shell.execute_reply.started": "2025-10-08T02:03:52.405218Z"
    }
   },
   "outputs": [],
   "source": [
    "from degen_sim.common.constants import ROOT_DIR, DATA_DIR"
   ]
  },
  {
   "cell_type": "code",
   "execution_count": 6,
   "id": "13a40d6a-48ac-4e6e-9a08-3aa118141b60",
   "metadata": {
    "execution": {
     "iopub.execute_input": "2025-10-08T02:03:52.648529Z",
     "iopub.status.busy": "2025-10-08T02:03:52.648003Z",
     "iopub.status.idle": "2025-10-08T02:03:52.675900Z",
     "shell.execute_reply": "2025-10-08T02:03:52.675193Z",
     "shell.execute_reply.started": "2025-10-08T02:03:52.648490Z"
    }
   },
   "outputs": [],
   "source": [
    "def line_scatter(df, x, y, **kwargs):\n",
    "    fig = px.line(df, x=x, y=y, **kwargs, template=\"plotly_white\")\n",
    "    for data in fig.data:\n",
    "        data.update(mode=\"markers+lines\")\n",
    "    return fig"
   ]
  },
  {
   "cell_type": "code",
   "execution_count": 19,
   "id": "b0d1784e-6450-4cd0-aacd-7fbd6ab32089",
   "metadata": {
    "execution": {
     "iopub.execute_input": "2025-10-08T02:04:33.405298Z",
     "iopub.status.busy": "2025-10-08T02:04:33.405037Z",
     "iopub.status.idle": "2025-10-08T02:04:33.435615Z",
     "shell.execute_reply": "2025-10-08T02:04:33.434952Z",
     "shell.execute_reply.started": "2025-10-08T02:04:33.405278Z"
    }
   },
   "outputs": [],
   "source": [
    "nfl_picks = pd.read_csv(os.path.join(DATA_DIR, \"parlay_tracker_nfl.csv\"))\n",
    "cfb_picks = pd.read_csv(os.path.join(DATA_DIR, \"parlay_tracker_cfb.csv\"))"
   ]
  },
  {
   "cell_type": "code",
   "execution_count": 20,
   "id": "c493a733-bb2a-4721-a983-032aa5003dc8",
   "metadata": {
    "execution": {
     "iopub.execute_input": "2025-10-08T02:04:42.089516Z",
     "iopub.status.busy": "2025-10-08T02:04:42.089226Z",
     "iopub.status.idle": "2025-10-08T02:04:42.111144Z",
     "shell.execute_reply": "2025-10-08T02:04:42.110509Z",
     "shell.execute_reply.started": "2025-10-08T02:04:42.089497Z"
    }
   },
   "outputs": [],
   "source": [
    "nfl_picks = nfl_picks[~nfl_picks.Win.isna()]"
   ]
  },
  {
   "cell_type": "code",
   "execution_count": 22,
   "id": "c5fab3cb-798f-4ff0-8bc0-8e55e7a2f64c",
   "metadata": {
    "execution": {
     "iopub.execute_input": "2025-10-08T02:05:16.706803Z",
     "iopub.status.busy": "2025-10-08T02:05:16.706290Z",
     "iopub.status.idle": "2025-10-08T02:05:16.734684Z",
     "shell.execute_reply": "2025-10-08T02:05:16.733727Z",
     "shell.execute_reply.started": "2025-10-08T02:05:16.706771Z"
    }
   },
   "outputs": [],
   "source": [
    "pickers = sorted(set(nfl_picks[\"Pick\"]) | set(cfb_picks[\"Pick\"]))"
   ]
  },
  {
   "cell_type": "code",
   "execution_count": 23,
   "id": "b084592f-bb61-4d7c-becc-519e4bbcc0d9",
   "metadata": {
    "execution": {
     "iopub.execute_input": "2025-10-08T02:05:18.548137Z",
     "iopub.status.busy": "2025-10-08T02:05:18.547882Z",
     "iopub.status.idle": "2025-10-08T02:05:18.573410Z",
     "shell.execute_reply": "2025-10-08T02:05:18.572999Z",
     "shell.execute_reply.started": "2025-10-08T02:05:18.548119Z"
    }
   },
   "outputs": [
    {
     "data": {
      "text/markdown": [
       "## Methodology"
      ],
      "text/plain": [
       "<IPython.core.display.Markdown object>"
      ]
     },
     "metadata": {},
     "output_type": "display_data"
    },
    {
     "data": {
      "text/markdown": [
       "For each person, we have their realized record (W-L-P), and set of American odds. We first convert the American odds to implied probabilities (assuming no house edge), and then we run a Monte Carlo simulation to see the distribution of number of wins according to the implied probabilities."
      ],
      "text/plain": [
       "<IPython.core.display.Markdown object>"
      ]
     },
     "metadata": {},
     "output_type": "display_data"
    },
    {
     "data": {
      "text/markdown": [
       "From this distribution, we can then compute the CDF(W) where W is the realized number of wins, where a higher CDF indicates more skill in picking winning bets, and a lower CDF indicates lower skill in picking winning bets. We simulate using 1,000,000 Monte Carlo trials per person."
      ],
      "text/plain": [
       "<IPython.core.display.Markdown object>"
      ]
     },
     "metadata": {},
     "output_type": "display_data"
    }
   ],
   "source": [
    "markdown(\"## Methodology\")\n",
    "markdown(\"For each person, we have their realized record (W-L-P), and set of American odds. We first convert the American odds to implied probabilities (assuming no house edge), and then we run a Monte Carlo simulation to see the distribution of number of wins according to the implied probabilities.\")\n",
    "markdown(\"From this distribution, we can then compute the CDF(W) where W is the realized number of wins, where a higher CDF indicates more skill in picking winning bets, and a lower CDF indicates lower skill in picking winning bets. We simulate using 1,000,000 Monte Carlo trials per person.\")"
   ]
  },
  {
   "cell_type": "code",
   "execution_count": 24,
   "id": "74315356-40e6-4f79-8e29-abb110332a99",
   "metadata": {
    "execution": {
     "iopub.execute_input": "2025-10-08T02:05:19.707462Z",
     "iopub.status.busy": "2025-10-08T02:05:19.706971Z",
     "iopub.status.idle": "2025-10-08T02:05:19.728614Z",
     "shell.execute_reply": "2025-10-08T02:05:19.728009Z",
     "shell.execute_reply.started": "2025-10-08T02:05:19.707433Z"
    }
   },
   "outputs": [],
   "source": [
    "@dataclass\n",
    "class PickInfo:\n",
    "    \"\"\"\n",
    "    Represents a product with a name, price, and quantity in stock.\n",
    "    \"\"\"\n",
    "    name: str\n",
    "    num_wins: int\n",
    "    num_losses: int\n",
    "    num_pushes: int\n",
    "    odds: list[float]"
   ]
  },
  {
   "cell_type": "code",
   "execution_count": 25,
   "id": "b5e82f29-8d94-4fee-a099-aee5a578be01",
   "metadata": {
    "execution": {
     "iopub.execute_input": "2025-10-08T02:05:20.234455Z",
     "iopub.status.busy": "2025-10-08T02:05:20.234165Z",
     "iopub.status.idle": "2025-10-08T02:05:20.261570Z",
     "shell.execute_reply": "2025-10-08T02:05:20.260985Z",
     "shell.execute_reply.started": "2025-10-08T02:05:20.234436Z"
    }
   },
   "outputs": [],
   "source": [
    "def american_to_implied_prob(odds):\n",
    "    \"\"\"\n",
    "    Convert American odds to implied probability.\n",
    "\n",
    "    Parameters:\n",
    "        odds (int or float): American odds (e.g., +150, -120)\n",
    "\n",
    "    Returns:\n",
    "        float: Implied probability as a percentage (e.g., 40.0 for +150)\n",
    "    \"\"\"\n",
    "    if odds > 0:\n",
    "        prob = 100 / (odds + 100)\n",
    "    elif odds < 0:\n",
    "        prob = abs(odds) / (abs(odds) + 100)\n",
    "    else:\n",
    "        raise ValueError(\"Odds cannot be zero\")\n",
    "\n",
    "    return prob\n"
   ]
  },
  {
   "cell_type": "code",
   "execution_count": 26,
   "id": "1b603e69-578c-49ca-bdeb-674a745b4576",
   "metadata": {
    "execution": {
     "iopub.execute_input": "2025-10-08T02:05:49.839006Z",
     "iopub.status.busy": "2025-10-08T02:05:49.838707Z",
     "iopub.status.idle": "2025-10-08T02:05:49.866039Z",
     "shell.execute_reply": "2025-10-08T02:05:49.865029Z",
     "shell.execute_reply.started": "2025-10-08T02:05:49.838986Z"
    }
   },
   "outputs": [],
   "source": [
    "def get_pick_infos(pickers, picks):\n",
    "    pick_infos = []\n",
    "    for picker in pickers:\n",
    "        sub_df = picks[picks.Pick == picker].copy()\n",
    "        odds = [american_to_implied_prob(odds) for odds in sub_df[\"Odds\"]]\n",
    "        num_wins = len(sub_df[sub_df[\"Win\"] == \"Y\"])\n",
    "        num_losses = len(sub_df[sub_df[\"Win\"] == \"N\"])\n",
    "        num_pushes = len(sub_df[sub_df[\"Win\"] == \"P\"])\n",
    "        assert num_wins + num_losses + num_pushes == len(sub_df)\n",
    "        pick_info = PickInfo(name=picker, num_wins=num_wins, num_losses=num_losses, num_pushes=num_pushes, odds=odds)\n",
    "        pick_infos.append(pick_info)\n",
    "    return pick_infos"
   ]
  },
  {
   "cell_type": "code",
   "execution_count": 27,
   "id": "fa45c74f-7d89-4ff8-a60c-5d0052e7cd06",
   "metadata": {
    "execution": {
     "iopub.execute_input": "2025-10-08T02:05:54.207645Z",
     "iopub.status.busy": "2025-10-08T02:05:54.207345Z",
     "iopub.status.idle": "2025-10-08T02:05:54.236994Z",
     "shell.execute_reply": "2025-10-08T02:05:54.235759Z",
     "shell.execute_reply.started": "2025-10-08T02:05:54.207622Z"
    }
   },
   "outputs": [],
   "source": [
    "def simulate_pick_info(pick_info, num_trials=100, seed=0):\n",
    "    np.random.seed(seed)\n",
    "    \n",
    "    num_games = pick_info.num_wins + pick_info.num_losses + pick_info.num_pushes\n",
    "    df = pd.DataFrame({\"game_index\": range(num_games * num_trials), \"p\": np.random.uniform(low=0.0, high=1.0, size=num_games * num_trials)})\n",
    "    df[\"trial_index\"] = df[\"game_index\"] // num_games\n",
    "    df[\"implied_prob\"] = pick_info.odds * num_trials\n",
    "    df[\"win\"] = np.where(df[\"p\"] <= df[\"implied_prob\"], 1.0, 0.0)\n",
    "\n",
    "    total_wins = df.groupby(\"trial_index\")[[\"win\"]].sum().reset_index()\n",
    "    return total_wins"
   ]
  },
  {
   "cell_type": "code",
   "execution_count": 28,
   "id": "1ac5092e-42b2-4b89-b704-d5d02b06bd95",
   "metadata": {
    "execution": {
     "iopub.execute_input": "2025-10-08T02:06:28.026410Z",
     "iopub.status.busy": "2025-10-08T02:06:28.026156Z",
     "iopub.status.idle": "2025-10-08T02:06:28.048826Z",
     "shell.execute_reply": "2025-10-08T02:06:28.048195Z",
     "shell.execute_reply.started": "2025-10-08T02:06:28.026392Z"
    }
   },
   "outputs": [],
   "source": [
    "def compute_cdf(pick_infos):\n",
    "    cdfs = []\n",
    "    for pick_info in pick_infos:\n",
    "        result = simulate_pick_info(pick_info, num_trials=1_000_000)\n",
    "        num_wins = pick_info.num_wins\n",
    "        cdf = len(result[result.win <= num_wins]) / len(result)\n",
    "        cdfs.append(cdf)\n",
    "    cdf_df = pd.DataFrame([asdict(pick_info) for pick_info in pick_infos])\n",
    "    cdf_df[\"cdf\"] = cdfs\n",
    "    return cdf_df.sort_values(by=\"cdf\", ascending=False).drop(columns=\"odds\")"
   ]
  },
  {
   "cell_type": "code",
   "execution_count": 39,
   "id": "91355fb7-c54b-47a7-9474-ba49afad82c8",
   "metadata": {
    "execution": {
     "iopub.execute_input": "2025-10-08T02:09:24.582657Z",
     "iopub.status.busy": "2025-10-08T02:09:24.582216Z",
     "iopub.status.idle": "2025-10-08T02:09:24.613584Z",
     "shell.execute_reply": "2025-10-08T02:09:24.613135Z",
     "shell.execute_reply.started": "2025-10-08T02:09:24.582630Z"
    }
   },
   "outputs": [
    {
     "data": {
      "text/markdown": [
       "## Combined (NFL + CFB) Results"
      ],
      "text/plain": [
       "<IPython.core.display.Markdown object>"
      ]
     },
     "metadata": {},
     "output_type": "display_data"
    }
   ],
   "source": [
    "markdown(\"## Combined (NFL + CFB) Results\")"
   ]
  },
  {
   "cell_type": "code",
   "execution_count": 36,
   "id": "b5b1f2c4-a14a-44a8-9ba3-3454048ee04b",
   "metadata": {
    "execution": {
     "iopub.execute_input": "2025-10-08T02:08:35.692117Z",
     "iopub.status.busy": "2025-10-08T02:08:35.691453Z",
     "iopub.status.idle": "2025-10-08T02:08:35.716826Z",
     "shell.execute_reply": "2025-10-08T02:08:35.716280Z",
     "shell.execute_reply.started": "2025-10-08T02:08:35.692070Z"
    }
   },
   "outputs": [],
   "source": [
    "combined_picks = pd.concat([nfl_picks, cfb_picks])"
   ]
  },
  {
   "cell_type": "code",
   "execution_count": 37,
   "id": "312fdc80-40c4-45c8-a463-7b1ff6948fe9",
   "metadata": {
    "execution": {
     "iopub.execute_input": "2025-10-08T02:08:49.422959Z",
     "iopub.status.busy": "2025-10-08T02:08:49.422668Z",
     "iopub.status.idle": "2025-10-08T02:08:49.462232Z",
     "shell.execute_reply": "2025-10-08T02:08:49.461589Z",
     "shell.execute_reply.started": "2025-10-08T02:08:49.422938Z"
    }
   },
   "outputs": [],
   "source": [
    "combined_pick_infos = get_pick_infos(pickers, combined_picks)"
   ]
  },
  {
   "cell_type": "code",
   "execution_count": 38,
   "id": "61f4222e-7a94-4271-830f-4dae7c4360ee",
   "metadata": {
    "execution": {
     "iopub.execute_input": "2025-10-08T02:09:00.778548Z",
     "iopub.status.busy": "2025-10-08T02:09:00.778291Z",
     "iopub.status.idle": "2025-10-08T02:09:07.463685Z",
     "shell.execute_reply": "2025-10-08T02:09:07.463459Z",
     "shell.execute_reply.started": "2025-10-08T02:09:00.778531Z"
    }
   },
   "outputs": [
    {
     "data": {
      "text/html": [
       "<div>\n",
       "<style scoped>\n",
       "    .dataframe tbody tr th:only-of-type {\n",
       "        vertical-align: middle;\n",
       "    }\n",
       "\n",
       "    .dataframe tbody tr th {\n",
       "        vertical-align: top;\n",
       "    }\n",
       "\n",
       "    .dataframe thead th {\n",
       "        text-align: right;\n",
       "    }\n",
       "</style>\n",
       "<table border=\"1\" class=\"dataframe\">\n",
       "  <thead>\n",
       "    <tr style=\"text-align: right;\">\n",
       "      <th></th>\n",
       "      <th>name</th>\n",
       "      <th>num_wins</th>\n",
       "      <th>num_losses</th>\n",
       "      <th>num_pushes</th>\n",
       "      <th>cdf</th>\n",
       "    </tr>\n",
       "  </thead>\n",
       "  <tbody>\n",
       "    <tr>\n",
       "      <th>6</th>\n",
       "      <td>Kunal</td>\n",
       "      <td>5</td>\n",
       "      <td>3</td>\n",
       "      <td>0</td>\n",
       "      <td>0.819242</td>\n",
       "    </tr>\n",
       "    <tr>\n",
       "      <th>1</th>\n",
       "      <td>Arun</td>\n",
       "      <td>4</td>\n",
       "      <td>4</td>\n",
       "      <td>0</td>\n",
       "      <td>0.585172</td>\n",
       "    </tr>\n",
       "    <tr>\n",
       "      <th>2</th>\n",
       "      <td>Ben</td>\n",
       "      <td>4</td>\n",
       "      <td>4</td>\n",
       "      <td>0</td>\n",
       "      <td>0.577093</td>\n",
       "    </tr>\n",
       "    <tr>\n",
       "      <th>9</th>\n",
       "      <td>Ryan</td>\n",
       "      <td>4</td>\n",
       "      <td>4</td>\n",
       "      <td>0</td>\n",
       "      <td>0.540625</td>\n",
       "    </tr>\n",
       "    <tr>\n",
       "      <th>5</th>\n",
       "      <td>Daniel</td>\n",
       "      <td>3</td>\n",
       "      <td>5</td>\n",
       "      <td>0</td>\n",
       "      <td>0.290385</td>\n",
       "    </tr>\n",
       "    <tr>\n",
       "      <th>8</th>\n",
       "      <td>Michael</td>\n",
       "      <td>3</td>\n",
       "      <td>5</td>\n",
       "      <td>0</td>\n",
       "      <td>0.253650</td>\n",
       "    </tr>\n",
       "    <tr>\n",
       "      <th>7</th>\n",
       "      <td>Kyle</td>\n",
       "      <td>3</td>\n",
       "      <td>5</td>\n",
       "      <td>0</td>\n",
       "      <td>0.218466</td>\n",
       "    </tr>\n",
       "    <tr>\n",
       "      <th>0</th>\n",
       "      <td>Ananya</td>\n",
       "      <td>2</td>\n",
       "      <td>5</td>\n",
       "      <td>1</td>\n",
       "      <td>0.181041</td>\n",
       "    </tr>\n",
       "    <tr>\n",
       "      <th>4</th>\n",
       "      <td>Cristian</td>\n",
       "      <td>3</td>\n",
       "      <td>5</td>\n",
       "      <td>0</td>\n",
       "      <td>0.163229</td>\n",
       "    </tr>\n",
       "    <tr>\n",
       "      <th>3</th>\n",
       "      <td>Caleb</td>\n",
       "      <td>1</td>\n",
       "      <td>7</td>\n",
       "      <td>0</td>\n",
       "      <td>0.026593</td>\n",
       "    </tr>\n",
       "  </tbody>\n",
       "</table>\n",
       "</div>"
      ],
      "text/plain": [
       "       name  num_wins  num_losses  num_pushes       cdf\n",
       "6     Kunal         5           3           0  0.819242\n",
       "1      Arun         4           4           0  0.585172\n",
       "2       Ben         4           4           0  0.577093\n",
       "9      Ryan         4           4           0  0.540625\n",
       "5    Daniel         3           5           0  0.290385\n",
       "8   Michael         3           5           0  0.253650\n",
       "7      Kyle         3           5           0  0.218466\n",
       "0    Ananya         2           5           1  0.181041\n",
       "4  Cristian         3           5           0  0.163229\n",
       "3     Caleb         1           7           0  0.026593"
      ]
     },
     "execution_count": 38,
     "metadata": {},
     "output_type": "execute_result"
    }
   ],
   "source": [
    "compute_cdf(combined_pick_infos)"
   ]
  },
  {
   "cell_type": "code",
   "execution_count": 31,
   "id": "7476f903-ce1c-4116-9c62-da8cc8a3d127",
   "metadata": {
    "execution": {
     "iopub.execute_input": "2025-10-08T02:07:06.230436Z",
     "iopub.status.busy": "2025-10-08T02:07:06.230177Z",
     "iopub.status.idle": "2025-10-08T02:07:06.253016Z",
     "shell.execute_reply": "2025-10-08T02:07:06.252524Z",
     "shell.execute_reply.started": "2025-10-08T02:07:06.230418Z"
    }
   },
   "outputs": [
    {
     "data": {
      "text/markdown": [
       "## NFL Results"
      ],
      "text/plain": [
       "<IPython.core.display.Markdown object>"
      ]
     },
     "metadata": {},
     "output_type": "display_data"
    }
   ],
   "source": [
    "markdown(\"## NFL Results\")"
   ]
  },
  {
   "cell_type": "code",
   "execution_count": 29,
   "id": "f5d03cbc-a706-4513-ad31-6ab9b559607e",
   "metadata": {
    "execution": {
     "iopub.execute_input": "2025-10-08T02:06:42.598101Z",
     "iopub.status.busy": "2025-10-08T02:06:42.597811Z",
     "iopub.status.idle": "2025-10-08T02:06:42.632973Z",
     "shell.execute_reply": "2025-10-08T02:06:42.632396Z",
     "shell.execute_reply.started": "2025-10-08T02:06:42.598080Z"
    }
   },
   "outputs": [],
   "source": [
    "nfl_pick_infos = get_pick_infos(pickers, nfl_picks)"
   ]
  },
  {
   "cell_type": "code",
   "execution_count": 30,
   "id": "e603e816-d1ba-424c-bb63-abe2cd5d0efd",
   "metadata": {
    "execution": {
     "iopub.execute_input": "2025-10-08T02:06:56.096333Z",
     "iopub.status.busy": "2025-10-08T02:06:56.096059Z",
     "iopub.status.idle": "2025-10-08T02:06:59.673839Z",
     "shell.execute_reply": "2025-10-08T02:06:59.673615Z",
     "shell.execute_reply.started": "2025-10-08T02:06:56.096313Z"
    }
   },
   "outputs": [
    {
     "data": {
      "text/html": [
       "<div>\n",
       "<style scoped>\n",
       "    .dataframe tbody tr th:only-of-type {\n",
       "        vertical-align: middle;\n",
       "    }\n",
       "\n",
       "    .dataframe tbody tr th {\n",
       "        vertical-align: top;\n",
       "    }\n",
       "\n",
       "    .dataframe thead th {\n",
       "        text-align: right;\n",
       "    }\n",
       "</style>\n",
       "<table border=\"1\" class=\"dataframe\">\n",
       "  <thead>\n",
       "    <tr style=\"text-align: right;\">\n",
       "      <th></th>\n",
       "      <th>name</th>\n",
       "      <th>num_wins</th>\n",
       "      <th>num_losses</th>\n",
       "      <th>num_pushes</th>\n",
       "      <th>cdf</th>\n",
       "    </tr>\n",
       "  </thead>\n",
       "  <tbody>\n",
       "    <tr>\n",
       "      <th>1</th>\n",
       "      <td>Arun</td>\n",
       "      <td>3</td>\n",
       "      <td>1</td>\n",
       "      <td>0</td>\n",
       "      <td>0.924610</td>\n",
       "    </tr>\n",
       "    <tr>\n",
       "      <th>6</th>\n",
       "      <td>Kunal</td>\n",
       "      <td>3</td>\n",
       "      <td>1</td>\n",
       "      <td>0</td>\n",
       "      <td>0.918674</td>\n",
       "    </tr>\n",
       "    <tr>\n",
       "      <th>0</th>\n",
       "      <td>Ananya</td>\n",
       "      <td>2</td>\n",
       "      <td>2</td>\n",
       "      <td>0</td>\n",
       "      <td>0.672756</td>\n",
       "    </tr>\n",
       "    <tr>\n",
       "      <th>2</th>\n",
       "      <td>Ben</td>\n",
       "      <td>2</td>\n",
       "      <td>2</td>\n",
       "      <td>0</td>\n",
       "      <td>0.646160</td>\n",
       "    </tr>\n",
       "    <tr>\n",
       "      <th>9</th>\n",
       "      <td>Ryan</td>\n",
       "      <td>2</td>\n",
       "      <td>2</td>\n",
       "      <td>0</td>\n",
       "      <td>0.592147</td>\n",
       "    </tr>\n",
       "    <tr>\n",
       "      <th>4</th>\n",
       "      <td>Cristian</td>\n",
       "      <td>2</td>\n",
       "      <td>2</td>\n",
       "      <td>0</td>\n",
       "      <td>0.508063</td>\n",
       "    </tr>\n",
       "    <tr>\n",
       "      <th>3</th>\n",
       "      <td>Caleb</td>\n",
       "      <td>1</td>\n",
       "      <td>3</td>\n",
       "      <td>0</td>\n",
       "      <td>0.286183</td>\n",
       "    </tr>\n",
       "    <tr>\n",
       "      <th>5</th>\n",
       "      <td>Daniel</td>\n",
       "      <td>1</td>\n",
       "      <td>3</td>\n",
       "      <td>0</td>\n",
       "      <td>0.239734</td>\n",
       "    </tr>\n",
       "    <tr>\n",
       "      <th>8</th>\n",
       "      <td>Michael</td>\n",
       "      <td>1</td>\n",
       "      <td>3</td>\n",
       "      <td>0</td>\n",
       "      <td>0.227499</td>\n",
       "    </tr>\n",
       "    <tr>\n",
       "      <th>7</th>\n",
       "      <td>Kyle</td>\n",
       "      <td>1</td>\n",
       "      <td>3</td>\n",
       "      <td>0</td>\n",
       "      <td>0.201340</td>\n",
       "    </tr>\n",
       "  </tbody>\n",
       "</table>\n",
       "</div>"
      ],
      "text/plain": [
       "       name  num_wins  num_losses  num_pushes       cdf\n",
       "1      Arun         3           1           0  0.924610\n",
       "6     Kunal         3           1           0  0.918674\n",
       "0    Ananya         2           2           0  0.672756\n",
       "2       Ben         2           2           0  0.646160\n",
       "9      Ryan         2           2           0  0.592147\n",
       "4  Cristian         2           2           0  0.508063\n",
       "3     Caleb         1           3           0  0.286183\n",
       "5    Daniel         1           3           0  0.239734\n",
       "8   Michael         1           3           0  0.227499\n",
       "7      Kyle         1           3           0  0.201340"
      ]
     },
     "execution_count": 30,
     "metadata": {},
     "output_type": "execute_result"
    }
   ],
   "source": [
    "compute_cdf(nfl_pick_infos)"
   ]
  },
  {
   "cell_type": "code",
   "execution_count": 32,
   "id": "b0162836-2697-4e48-9d2a-9df3ad5b833e",
   "metadata": {
    "execution": {
     "iopub.execute_input": "2025-10-08T02:07:24.860557Z",
     "iopub.status.busy": "2025-10-08T02:07:24.860052Z",
     "iopub.status.idle": "2025-10-08T02:07:24.883459Z",
     "shell.execute_reply": "2025-10-08T02:07:24.882562Z",
     "shell.execute_reply.started": "2025-10-08T02:07:24.860516Z"
    }
   },
   "outputs": [
    {
     "data": {
      "text/markdown": [
       "## CFB Results"
      ],
      "text/plain": [
       "<IPython.core.display.Markdown object>"
      ]
     },
     "metadata": {},
     "output_type": "display_data"
    }
   ],
   "source": [
    "markdown(\"## CFB Results\")"
   ]
  },
  {
   "cell_type": "code",
   "execution_count": 33,
   "id": "80740afc-dfa8-4bf7-9660-ed7303edd873",
   "metadata": {
    "execution": {
     "iopub.execute_input": "2025-10-08T02:07:38.568804Z",
     "iopub.status.busy": "2025-10-08T02:07:38.568373Z",
     "iopub.status.idle": "2025-10-08T02:07:38.598728Z",
     "shell.execute_reply": "2025-10-08T02:07:38.598363Z",
     "shell.execute_reply.started": "2025-10-08T02:07:38.568779Z"
    }
   },
   "outputs": [],
   "source": [
    "cfb_pick_infos = get_pick_infos(pickers, cfb_picks)"
   ]
  },
  {
   "cell_type": "code",
   "execution_count": 34,
   "id": "d0d1587d-8320-4e81-9c7b-45d7f8dcc3e3",
   "metadata": {
    "execution": {
     "iopub.execute_input": "2025-10-08T02:07:46.851629Z",
     "iopub.status.busy": "2025-10-08T02:07:46.851342Z",
     "iopub.status.idle": "2025-10-08T02:07:50.416072Z",
     "shell.execute_reply": "2025-10-08T02:07:50.415845Z",
     "shell.execute_reply.started": "2025-10-08T02:07:46.851605Z"
    }
   },
   "outputs": [
    {
     "data": {
      "text/html": [
       "<div>\n",
       "<style scoped>\n",
       "    .dataframe tbody tr th:only-of-type {\n",
       "        vertical-align: middle;\n",
       "    }\n",
       "\n",
       "    .dataframe tbody tr th {\n",
       "        vertical-align: top;\n",
       "    }\n",
       "\n",
       "    .dataframe thead th {\n",
       "        text-align: right;\n",
       "    }\n",
       "</style>\n",
       "<table border=\"1\" class=\"dataframe\">\n",
       "  <thead>\n",
       "    <tr style=\"text-align: right;\">\n",
       "      <th></th>\n",
       "      <th>name</th>\n",
       "      <th>num_wins</th>\n",
       "      <th>num_losses</th>\n",
       "      <th>num_pushes</th>\n",
       "      <th>cdf</th>\n",
       "    </tr>\n",
       "  </thead>\n",
       "  <tbody>\n",
       "    <tr>\n",
       "      <th>6</th>\n",
       "      <td>Kunal</td>\n",
       "      <td>2</td>\n",
       "      <td>2</td>\n",
       "      <td>0</td>\n",
       "      <td>0.661999</td>\n",
       "    </tr>\n",
       "    <tr>\n",
       "      <th>5</th>\n",
       "      <td>Daniel</td>\n",
       "      <td>2</td>\n",
       "      <td>2</td>\n",
       "      <td>0</td>\n",
       "      <td>0.657400</td>\n",
       "    </tr>\n",
       "    <tr>\n",
       "      <th>9</th>\n",
       "      <td>Ryan</td>\n",
       "      <td>2</td>\n",
       "      <td>2</td>\n",
       "      <td>0</td>\n",
       "      <td>0.649522</td>\n",
       "    </tr>\n",
       "    <tr>\n",
       "      <th>2</th>\n",
       "      <td>Ben</td>\n",
       "      <td>2</td>\n",
       "      <td>2</td>\n",
       "      <td>0</td>\n",
       "      <td>0.646482</td>\n",
       "    </tr>\n",
       "    <tr>\n",
       "      <th>8</th>\n",
       "      <td>Michael</td>\n",
       "      <td>2</td>\n",
       "      <td>2</td>\n",
       "      <td>0</td>\n",
       "      <td>0.623972</td>\n",
       "    </tr>\n",
       "    <tr>\n",
       "      <th>7</th>\n",
       "      <td>Kyle</td>\n",
       "      <td>2</td>\n",
       "      <td>2</td>\n",
       "      <td>0</td>\n",
       "      <td>0.585098</td>\n",
       "    </tr>\n",
       "    <tr>\n",
       "      <th>1</th>\n",
       "      <td>Arun</td>\n",
       "      <td>1</td>\n",
       "      <td>3</td>\n",
       "      <td>0</td>\n",
       "      <td>0.279409</td>\n",
       "    </tr>\n",
       "    <tr>\n",
       "      <th>4</th>\n",
       "      <td>Cristian</td>\n",
       "      <td>1</td>\n",
       "      <td>3</td>\n",
       "      <td>0</td>\n",
       "      <td>0.177469</td>\n",
       "    </tr>\n",
       "    <tr>\n",
       "      <th>0</th>\n",
       "      <td>Ananya</td>\n",
       "      <td>0</td>\n",
       "      <td>3</td>\n",
       "      <td>1</td>\n",
       "      <td>0.094309</td>\n",
       "    </tr>\n",
       "    <tr>\n",
       "      <th>3</th>\n",
       "      <td>Caleb</td>\n",
       "      <td>0</td>\n",
       "      <td>4</td>\n",
       "      <td>0</td>\n",
       "      <td>0.050774</td>\n",
       "    </tr>\n",
       "  </tbody>\n",
       "</table>\n",
       "</div>"
      ],
      "text/plain": [
       "       name  num_wins  num_losses  num_pushes       cdf\n",
       "6     Kunal         2           2           0  0.661999\n",
       "5    Daniel         2           2           0  0.657400\n",
       "9      Ryan         2           2           0  0.649522\n",
       "2       Ben         2           2           0  0.646482\n",
       "8   Michael         2           2           0  0.623972\n",
       "7      Kyle         2           2           0  0.585098\n",
       "1      Arun         1           3           0  0.279409\n",
       "4  Cristian         1           3           0  0.177469\n",
       "0    Ananya         0           3           1  0.094309\n",
       "3     Caleb         0           4           0  0.050774"
      ]
     },
     "execution_count": 34,
     "metadata": {},
     "output_type": "execute_result"
    }
   ],
   "source": [
    "compute_cdf(cfb_pick_infos)"
   ]
  },
  {
   "cell_type": "code",
   "execution_count": null,
   "id": "ac5103ea-1b4d-4915-8c42-22060f5d1b3e",
   "metadata": {},
   "outputs": [],
   "source": []
  }
 ],
 "metadata": {
  "kernelspec": {
   "display_name": "Python 3 (ipykernel)",
   "language": "python",
   "name": "python3"
  },
  "language_info": {
   "codemirror_mode": {
    "name": "ipython",
    "version": 3
   },
   "file_extension": ".py",
   "mimetype": "text/x-python",
   "name": "python",
   "nbconvert_exporter": "python",
   "pygments_lexer": "ipython3",
   "version": "3.12.7"
  }
 },
 "nbformat": 4,
 "nbformat_minor": 5
}
